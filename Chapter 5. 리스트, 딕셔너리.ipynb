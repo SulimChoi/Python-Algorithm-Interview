{
 "cells": [
  {
   "cell_type": "markdown",
   "metadata": {},
   "source": [
    "### !주요 내용!\n",
    "1. **리스트**\n",
    "    - 리스트 활용법\n",
    "    - 리스트 특징 <br/><br/>\n",
    "2. **딕셔너리**\n",
    "    - 딕셔너리 활용법\n",
    "    - 딕셔너리 모듈\n",
    "    - 딕셔너리 특징"
   ]
  },
  {
   "cell_type": "markdown",
   "metadata": {},
   "source": [
    "# 1. 리스트(List)\n",
    "- - -\n",
    "- 의미: 순서대로 저장하는 시퀀스이자 변경 가능한 목록\n",
    "- **입력 순서가 유지**되며 내부적으로는 **동적 배열**로 구현\n",
    "- 파이썬의 리스트는 매우 다양한 기능을 제공\n",
    "    - 스택과 큐에서 사용 가능한 모든 연산을 함께 제공\n",
    "- 리스트의 **주요 연산 시간 복잡도**\n",
    "\n",
    "연산          |시간 복잡도 |<center>설명</center>\n",
    ":----:        |:-----------: |:----\n",
    "len(a)        |$O(1)$      |전체 요소의 개수를 리턴\n",
    "a[i]          |$O(1)$      |인덱스 $i$의 요소를 가져옴\n",
    "a[i:j]        |$O(k)$      |$i$부터 $j$까지 슬라이스의 길이만큼의 $k$개의 요소를 가져옴. 이 경우 객체 $k$개에 대한 조회가 필요하므로 $O(k)$\n",
    "elem in a     |$O(n)$      |elem 요소가 존재하는지 확인. 처음부터 순차 탐색하므로 $n$만큼 시간이 소요\n",
    "a.count(elem) |$O(n)$      |elem 요소의 개수를 리턴\n",
    "a.index(elem) |$O(n)$      |elem 요소의 인덱스를 리턴\n",
    "a.append(elem)|$O(1)$      |리스트 마지막에 elem 요소를 추가\n",
    "a.pop()       |$O(1)$      |리스트 마지막 요소를 추출(스택 연산)\n",
    "a.pop(0)      |$O(n)$      |리스트 첫 번째 요소를 추출(큐의 연산). 전체 복사가 필요하므로 $O(n)$\n",
    "del a[i]      |$O(n)$      |$i$에 따라 다르지만 최악의 경우 $O(n)$\n",
    "a.sort()      |$O(n log n)$|리스트를 정렬. 팀소트(Timsort)를 사용하며 최선의 경우 $O(n)$에 실행됨\n",
    "min(a), max(a)|$O(n)$      |최솟값/최댓값 계산을 위해서는 전체를 선형 탐색해야 함\n",
    "a,reverse()   |$O(n)$      |리스트를 뒤집음. 리스트는 입력 순서가 유지되므로 뒤집게 되면 입력 순서의 반대가 됨\n",
    "\n",
    "- 리스트의 경우 탐색 시 값의 존재 유무를 확인하기 위해선 **정렬된 경우에는 이진 검색**(18장)이 효율적\n",
    "    - 대개는 리스트가 정렬된 상태가 아니기 때문에, 리스트의 경우 모든 엘리먼트를 **순차적으로 조회**하는 형태로 구현. 최악의 경우 항상 $O(n)$이 소요"
   ]
  },
  {
   "cell_type": "markdown",
   "metadata": {},
   "source": [
    "## 1.1 리스트의 활용 방법\n",
    "- - -\n",
    "- 리스트의 선언\n",
    "    - list()로 선언\n",
    "```python\n",
    ">>> a = list()\n",
    "```\n",
    "    - 대괄호([])로 선언\n",
    "```python\n",
    ">>> a = []\n",
    "```\n",
    "\n",
    "- 초기값을 지정해 선언하거나 **append()**로 추가 가능\n",
    "```python\n",
    ">>> a = [1, 2, 3]\n",
    ">>> a\n",
    "[1, 2, 3]\n",
    ">>> a.append(4)\n",
    ">>> a\n",
    "[1, 2, 3, 4]\n",
    "```\n"
   ]
  },
  {
   "cell_type": "code",
   "execution_count": 1,
   "metadata": {},
   "outputs": [
    {
     "data": {
      "text/plain": [
       "[1, 2, 3]"
      ]
     },
     "execution_count": 1,
     "metadata": {},
     "output_type": "execute_result"
    }
   ],
   "source": [
    "# 초깃값 지정 선언\n",
    "a = [1, 2, 3]\n",
    "a"
   ]
  },
  {
   "cell_type": "code",
   "execution_count": 2,
   "metadata": {},
   "outputs": [
    {
     "data": {
      "text/plain": [
       "[1, 2, 3, 4]"
      ]
     },
     "execution_count": 2,
     "metadata": {},
     "output_type": "execute_result"
    }
   ],
   "source": [
    "# append()\n",
    "a.append(4)\n",
    "a"
   ]
  },
  {
   "cell_type": "markdown",
   "metadata": {},
   "source": [
    "- **insert()** 함수: 특정 위치의 인덱스를 지정해 요소를 추가\n",
    "```python\n",
    ">>> a.insert(3, 5)\n",
    ">>> a\n",
    "[1, 2, 3, 5, 4]\n",
    "```"
   ]
  },
  {
   "cell_type": "code",
   "execution_count": 3,
   "metadata": {},
   "outputs": [
    {
     "data": {
      "text/plain": [
       "[1, 2, 3, 5, 4]"
      ]
     },
     "execution_count": 3,
     "metadata": {},
     "output_type": "execute_result"
    }
   ],
   "source": [
    "# insert()\n",
    "a.insert(3, 5)\n",
    "a"
   ]
  },
  {
   "cell_type": "markdown",
   "metadata": {},
   "source": [
    "- 파이썬의 리스트는 숫자 외에도 **다양한 자료형**을 단일 리스트에 관리할 수 있음\n",
    "    - 문자와 불리언을 자유롭게 삽입 가능\n",
    "```python\n",
    ">>> a.append('안녕')\n",
    ">>> a.append(True)\n",
    ">>> a\n",
    "[1, 2, 3, 5, 4, '안녕', True]\n",
    "```\n",
    "    - 다른 언어들은 자료형을 동일한 타입으로 제한하는 경우가 있어 별도의 부가 처리를 해줘야 하지만 파이썬은 그럴 필요가 없어 생산성이 높음 <br/> <br/>"
   ]
  },
  {
   "cell_type": "code",
   "execution_count": 4,
   "metadata": {},
   "outputs": [
    {
     "data": {
      "text/plain": [
       "[1, 2, 3, 5, 4, '안녕', True]"
      ]
     },
     "execution_count": 4,
     "metadata": {},
     "output_type": "execute_result"
    }
   ],
   "source": [
    "# 문자, 불리언 삽입\n",
    "a.append('안녕')\n",
    "a.append(True)\n",
    "a"
   ]
  },
  {
   "cell_type": "markdown",
   "metadata": {},
   "source": [
    "- **인덱스를 지정**해 값을 꺼내올 수 있음\n",
    "```python\n",
    ">>> a[3]\n",
    "5\n",
    "```"
   ]
  },
  {
   "cell_type": "code",
   "execution_count": 5,
   "metadata": {},
   "outputs": [
    {
     "data": {
      "text/plain": [
       "5"
      ]
     },
     "execution_count": 5,
     "metadata": {},
     "output_type": "execute_result"
    }
   ],
   "source": [
    "# 값 꺼내오기\n",
    "a[3]"
   ]
  },
  {
   "cell_type": "markdown",
   "metadata": {},
   "source": [
    "- **슬라이싱(slicing) 기능**을 활용해 특정 범위 내의 값을 가져올 수 있음\n",
    "    - 슬라이싱은 문자열에 유용하게 활용되는 기능으로, 리스트에서도 동일한 형태로 활용 가능\n",
    "    - 인덱스 1에서 인덱스 3 이전까지(인덱스 3은 포함되지 않음) 값을 가져오기\n",
    "```python\n",
    ">>> a[1:3]\n",
    "[2, 3]\n",
    "```\n",
    "    - 다른 언어에서는 인덱스의 반복문을 구성하고 순회하면서 값을 출력해야 하지만, 파이썬에서는 **시작 인덱스와 종료 인덱스를 설정**해 간단히 해당하는 값을 출력할 수 있음 <br/><br/>\n",
    "    - **시작 인덱스와 종료 인덱스는 생략 가능**\n",
    "```python\n",
    ">>> a[:3]\n",
    "[1, 2, 3]\n",
    ">>> a[4:]\n",
    "[4, '안녕', True]\n",
    "```\n",
    "        - 시작 인덱스를 생략할 경우 처음부터 값을 가져옴\n",
    "        - 종료 인덱스를 생략할 경우 마지막까지 값을 가져옴<br/><br/>\n",
    "    - **단계**(Step, 세 번째 파라미터)를 활용해 홀수 번째 인덱스의 값만 가져올 수 있음\n",
    "```python\n",
    "# 인덱스 1, 2, 3의 값\n",
    ">>> a[1:4]\n",
    "[2, 3, 5]   \n",
    "# 인덱스 1, 3의 값\n",
    ">>> a[1:4:2]\n",
    "[2, 5]\n",
    "```\n",
    "        - 단계를 2로 지정할 경우 두 칸씩 건너뛰게 됨"
   ]
  },
  {
   "cell_type": "code",
   "execution_count": 6,
   "metadata": {},
   "outputs": [
    {
     "data": {
      "text/plain": [
       "[2, 3]"
      ]
     },
     "execution_count": 6,
     "metadata": {},
     "output_type": "execute_result"
    }
   ],
   "source": [
    "# 슬라이싱 기능\n",
    "a[1:3]"
   ]
  },
  {
   "cell_type": "code",
   "execution_count": 7,
   "metadata": {},
   "outputs": [
    {
     "data": {
      "text/plain": [
       "[1, 2, 3]"
      ]
     },
     "execution_count": 7,
     "metadata": {},
     "output_type": "execute_result"
    }
   ],
   "source": [
    "# 시작 인덱스 생략\n",
    "a[:3]"
   ]
  },
  {
   "cell_type": "code",
   "execution_count": 8,
   "metadata": {},
   "outputs": [
    {
     "data": {
      "text/plain": [
       "[4, '안녕', True]"
      ]
     },
     "execution_count": 8,
     "metadata": {},
     "output_type": "execute_result"
    }
   ],
   "source": [
    "# 종료 인덱스 생략\n",
    "a[4:]"
   ]
  },
  {
   "cell_type": "code",
   "execution_count": 9,
   "metadata": {},
   "outputs": [
    {
     "name": "stdout",
     "output_type": "stream",
     "text": [
      "[2, 3, 5]\n"
     ]
    },
    {
     "data": {
      "text/plain": [
       "[2, 5]"
      ]
     },
     "execution_count": 9,
     "metadata": {},
     "output_type": "execute_result"
    }
   ],
   "source": [
    "# 단계 지정\n",
    "print(a[1:4])\n",
    "a[1:4:2]"
   ]
  },
  {
   "cell_type": "markdown",
   "metadata": {},
   "source": [
    "- **IndexError**: 존재하지 않는 인덱스를 조회할 경우 IndexError 발생\n",
    "```python\n",
    ">>> a[9]\n",
    "Traceback (most recent call last)\n",
    "<ipython-input-12-83eb91801e18> in <module>\n",
    "----> 1 a[9]\n",
    "IndexError: list index out of range\n",
    "```\n",
    "    - IndexError는 인덱스가 **리스트의 길이를 넘어설 때** 발생\n",
    "    - try 구문으로 **예외 처리** 가능\n",
    "```python\n",
    "try:\n",
    "        print(a[9])\n",
    "except IndexError:\n",
    "        print('존재하지 않는 인덱스')\n",
    "```"
   ]
  },
  {
   "cell_type": "code",
   "execution_count": 10,
   "metadata": {},
   "outputs": [
    {
     "ename": "IndexError",
     "evalue": "list index out of range",
     "output_type": "error",
     "traceback": [
      "\u001b[1;31m---------------------------------------------------------------------------\u001b[0m",
      "\u001b[1;31mIndexError\u001b[0m                                Traceback (most recent call last)",
      "\u001b[1;32m<ipython-input-10-83eb91801e18>\u001b[0m in \u001b[0;36m<module>\u001b[1;34m\u001b[0m\n\u001b[0;32m      1\u001b[0m \u001b[1;31m# IndexError\u001b[0m\u001b[1;33m\u001b[0m\u001b[1;33m\u001b[0m\u001b[1;33m\u001b[0m\u001b[0m\n\u001b[1;32m----> 2\u001b[1;33m \u001b[0ma\u001b[0m\u001b[1;33m[\u001b[0m\u001b[1;36m9\u001b[0m\u001b[1;33m]\u001b[0m\u001b[1;33m\u001b[0m\u001b[1;33m\u001b[0m\u001b[0m\n\u001b[0m",
      "\u001b[1;31mIndexError\u001b[0m: list index out of range"
     ]
    }
   ],
   "source": [
    "# IndexError\n",
    "a[9]"
   ]
  },
  {
   "cell_type": "markdown",
   "metadata": {},
   "source": [
    "- 리스트에서의 요소 **삭제** 방법\n",
    "    - **인덱스**로 삭제: **del** 키워드 사용\n",
    "```python\n",
    ">>> a\n",
    "[1, 2, 3, 5, 4, '안녕', True]\n",
    ">>> del a[1]\n",
    ">>> a\n",
    "[1, 3, 5, 4, '안녕', True]\n",
    "```\n",
    "    - **값**으로 삭제: **remove()** 함수 사용\n",
    "```python\n",
    ">>> a\n",
    "[1, 3, 5, 4, '안녕', True]\n",
    ">>> a.remove(3)\n",
    ">>> a\n",
    "[1, 5, 4, '안녕', True]\n",
    "```\n",
    "    - pop() 함수 사용: 스택의 팝(pop) 연산처럼 추출로 처리\n",
    "```python\n",
    ">>> a\n",
    "[1, 5, 4, '안녕', True]\n",
    ">>> a.pop(3)\n",
    "'안녕'\n",
    ">>> a\n",
    "[1, 5, 4, True]\n",
    "```"
   ]
  },
  {
   "cell_type": "code",
   "execution_count": 11,
   "metadata": {},
   "outputs": [
    {
     "name": "stdout",
     "output_type": "stream",
     "text": [
      "[1, 2, 3, 5, 4, '안녕', True]\n",
      "[1, 3, 5, 4, '안녕', True]\n"
     ]
    }
   ],
   "source": [
    "# del 키워드 사용\n",
    "print(a)\n",
    "del a[1]\n",
    "print(a)"
   ]
  },
  {
   "cell_type": "code",
   "execution_count": 12,
   "metadata": {},
   "outputs": [
    {
     "name": "stdout",
     "output_type": "stream",
     "text": [
      "[1, 3, 5, 4, '안녕', True]\n",
      "[1, 5, 4, '안녕', True]\n"
     ]
    }
   ],
   "source": [
    "# remove() 사용\n",
    "print(a)\n",
    "a.remove(3)\n",
    "print(a)"
   ]
  },
  {
   "cell_type": "code",
   "execution_count": 13,
   "metadata": {},
   "outputs": [
    {
     "data": {
      "text/plain": [
       "[1, 5, 4, '안녕', True]"
      ]
     },
     "execution_count": 13,
     "metadata": {},
     "output_type": "execute_result"
    }
   ],
   "source": [
    "# pop() 사용\n",
    "a"
   ]
  },
  {
   "cell_type": "code",
   "execution_count": 14,
   "metadata": {},
   "outputs": [
    {
     "data": {
      "text/plain": [
       "'안녕'"
      ]
     },
     "execution_count": 14,
     "metadata": {},
     "output_type": "execute_result"
    }
   ],
   "source": [
    "a.pop(3)"
   ]
  },
  {
   "cell_type": "code",
   "execution_count": 15,
   "metadata": {},
   "outputs": [
    {
     "data": {
      "text/plain": [
       "[1, 5, 4, True]"
      ]
     },
     "execution_count": 15,
     "metadata": {},
     "output_type": "execute_result"
    }
   ],
   "source": [
    "a"
   ]
  },
  {
   "cell_type": "markdown",
   "metadata": {},
   "source": [
    "## 1.2 리스트의 특징\n",
    "- - -\n",
    "- 파이썬의 리스트는 **연속된 공간에 요소를 배치**하는 배열의 장점과 **다양한 타입을 연결해 배치**하는 연결 리스트의 장점을 모두 가지고 있음\n",
    "- 실제로 리스트를 잘 활용하면 배열과 연결 리스트가 모두 필요 없을 정도로 강력하기 때문에 파이썬은 원시 타입인 배열을 제공하지 않음 <br/><br/>\n",
    "- CPython에서 리스트를 정의한 헤더 파일의 일부\n",
    "```CPython\n",
    "//cpython/Include/cpython/listobject.h\n",
    "typeof struct{\n",
    "    PyObject_VAR_HEAD\n",
    "    PyObject **ob_item;\n",
    "    Py_ssize_t allocated;\n",
    "} PyListObject;\n",
    "```\n",
    "    - CPython에서 리스트는 **요소에 대한 포인터 목록**(ob_item)을 갖고 있는 **구조체**(Struct)로 선언되어 있음\n",
    "    - 리스트에 요소를 추가하거나 조작하기 시작하면 ob_item의 사이즈를 조절해 나가는 형태로 구현되어 있음<br/><br/>\n",
    "    \n",
    "- 리스트는 **객체로 되어 있는 모든 자료형을 포인터로 연결**\n",
    "    <img src=\"http://jakevdp.github.io/images/array_vs_list.png\" width=\"60%\" height=\"50%\" title=\"객체에 대한 포인터 목록으로 구현된 파이썬 리스트\"></img>\n",
    "    - 파이썬의 리스트는 **객체에 대한 포인터 목록을 관리**하는 형태로 구현\n",
    "    - 연결 리스트에 대한 **포인터 목록을 배열 형태**로 관리 <br/><br/>\n",
    "    \n",
    "- 정수로 이뤄진 값들을 파이썬 리스트에 삽입하는 코드\n",
    "```python\n",
    ">>> a = [1, 2, 3]\n",
    ">>> a\n",
    "[1, 2, 3]\n",
    "```\n",
    "    - 일반적으로 정수형 배열에는 정수로만 이뤄진 값을 **연속된 메모리 공간**에 저장하는 경우를 말하며 정수가 아닌 값은 저장할 수 없음\n",
    "    - 파이썬의 리스트는 **연결 리스트에 대한 포인터 목록**을 관리하고 있기 때문에 다양한 타입을 동시에 단일 리스트에서 관리하는 게 가능\n",
    "```python\n",
    ">>> a = [1, '안녕', True]\n",
    ">>> a\n",
    "[1, '안녕', True]\n",
    "```\n",
    "        - 정수 $1$, 문자 $'안녕'$, 불리언 $True$ 모두 다른 자료형을 $a$라는 단일 리스트에 통합해 저장 가능<br/><br/>\n",
    "\n",
    "- 각 자료형의 **크기는 서로 다르기 때문에** 연속된 메모리 공간에 할당하는 것은 불가능\n",
    "    - 각각의 **객체에 대한 참조**로 구현해야 함\n",
    "    - 인덱스를 조회하는 데에도 추가적인 작업(모든 포인터의 위치를 찾아가서 타입 코드를 확인하고 값을 일일이 살펴봐야 하는 등)이 필요하기 때문에 **속도 면에서 불리**\n",
    "        "
   ]
  },
  {
   "cell_type": "markdown",
   "metadata": {},
   "source": [
    "# 2. 딕셔너리\n",
    "- - -\n",
    "- 파이썬의 딕셔너리는 **키/값 구조**로 이뤄진 딕셔너리를 의미\n",
    "- 파이썬 3.7+에서는 **입력 순서가 유지되며** 내부적으로는 **해시 테이블**(Hash Table, 11장)로 구현되어 있음\n",
    "- 인덱스를 숫자로만 지정할 수 있는 리스트와 달리 딕셔너리는 문자를 포함해 **다양한 타입을 키로 사용 가능**\n",
    "    - **해싱**: 숫자뿐만 아니라 문자, 집합까지 불변 객체를 모두 키로 사용 가능\n",
    "    - 해시 테이블을 이용해 자료를 저장 <br/><br/>\n",
    "- 해시 테이블은 다양한 타입을 키로 지원하면서 입력과 조회 모두 $O(1)$에 가능\n",
    "    - 최악의 경우 $O(n)$이 될 수 있으나 대부분의 경우 더 빨리 실행 되며 **분할 상환 분석에 따른 시간 복잡도는 $O(1)$**\n",
    "- 해시 테이블의 **주요 연산과 시간 복잡도**\n",
    "\n",
    "연산           |시간 복잡도|<center>설명</center>\n",
    ":---:          |:-----------:|:----\n",
    "len(a)         |$O(1)$     |요소의 개수를 리턴\n",
    "a[key]         |$O(1)$     |키를 조회하여 값을 리턴\n",
    "a[key] = value |$O(1)$     |키/값을 삽입\n",
    "key in a       |$O(1)$     |딕셔너리에 키가 존재하는지 확인\n",
    "\n",
    "- 딕셔너리는 대부분의 연산이 $O(1)$에 처리 가능한 매우 우수한 자료형\n",
    "    - 키/값 구조의 데이터를 저장하는 유용한 자료형 <br/><br/>\n",
    "- 파이썬에서는 딕셔너리를 효율적으로 생성하기 위한 추가 모듈을 지원\n",
    "    - collections.**OrderedDict()**: 파이썬 3.6 이하에서 항상 입력 순서가 유지\n",
    "    - collections.**defaultdict()**: 조회 시 항상 디폴트 값을 생성해 키 오류를 방지\n",
    "    - collections.**Counter()**: 요소의 값을 키로 하고 개수를 값 형태로 만들어 카운팅"
   ]
  },
  {
   "cell_type": "markdown",
   "metadata": {},
   "source": [
    "## 2.1 딕셔너리의 활용 방법\n",
    "- 딕셔너리 선언\n",
    "    - **dict()** 사용\n",
    "```python\n",
    ">>> a = dict()\n",
    "```\n",
    "    - **중괄호({})** 사용\n",
    "```python\n",
    ">>> a = {}\n",
    "```\n",
    "\n",
    "- 초기값으로 지정해 선언($key1, key2$)하거나 나중에 별도로 선언($key3$)해 값을 할당할 수 있음\n",
    "```python\n",
    ">>> a = {'key1':'value1', 'key2':'value2'}\n",
    ">>> a\n",
    "{'key1': 'value1', 'key2': 'value2'}\n",
    ">>> a['key3'] = 'value3'\n",
    ">>> a\n",
    "{'key1': 'value1', 'key2': 'value2', 'key3': 'value3'}\n",
    "```"
   ]
  },
  {
   "cell_type": "code",
   "execution_count": 16,
   "metadata": {},
   "outputs": [
    {
     "data": {
      "text/plain": [
       "{'key1': 'value1', 'key2': 'value2'}"
      ]
     },
     "execution_count": 16,
     "metadata": {},
     "output_type": "execute_result"
    }
   ],
   "source": [
    "# 초기값 지정 선언\n",
    "a = {'key1':'value1', 'key2':'value2'}\n",
    "a"
   ]
  },
  {
   "cell_type": "code",
   "execution_count": 17,
   "metadata": {},
   "outputs": [
    {
     "data": {
      "text/plain": [
       "{'key1': 'value1', 'key2': 'value2', 'key3': 'value3'}"
      ]
     },
     "execution_count": 17,
     "metadata": {},
     "output_type": "execute_result"
    }
   ],
   "source": [
    "# 별도로 선언\n",
    "a['key3'] = 'value3'\n",
    "a"
   ]
  },
  {
   "cell_type": "markdown",
   "metadata": {},
   "source": [
    "- 딕셔너리의 **키를 지정**하면 값 조회가 가능\n",
    "```python\n",
    ">>> a['key1']\n",
    "'value1'\n",
    "```"
   ]
  },
  {
   "cell_type": "code",
   "execution_count": 18,
   "metadata": {},
   "outputs": [
    {
     "data": {
      "text/plain": [
       "'value1'"
      ]
     },
     "execution_count": 18,
     "metadata": {},
     "output_type": "execute_result"
    }
   ],
   "source": [
    "a['key1']"
   ]
  },
  {
   "cell_type": "markdown",
   "metadata": {},
   "source": [
    "- **KeyError**: 딕셔너리에서 존재하지 않는 키를 조회하면 KeyError 발생\n",
    "```python\n",
    ">>> a['key4']\n",
    "Traceback (most recent call last)\n",
    "<ipython-input-19-91c1e5997b2c> in <module>\n",
    "----> 1 a['key4']\n",
    "KeyError: 'key4'\n",
    "```\n",
    "    - try 구문을 통해 **에외처리** 가능\n",
    "```python\n",
    "try:\n",
    "        print(a['key4'])\n",
    "except KeyError:\n",
    "        print('존재하지 않는 키')\n",
    "```\n",
    "        - 존재하지 않는 키가 있을 경우 예외 처리를 하게 되면, 나중에 삽입하는 등 별도로 추가 작업을 할 수 있어 유용<br/><br/>\n",
    "    -  예외처리 외에도 **키가 존재하는지 미리 확인**한 후 이후 작업을 진행하는 방법도 있음\n",
    "```python\n",
    ">>> 'key4' in a\n",
    "False\n",
    ">>> if 'key4' in a:\n",
    "...        print('존재하는 키')\n",
    "... else:\n",
    "...        print('존재하지 않는 키')\n",
    "존재하지 않는 키\n",
    "```"
   ]
  },
  {
   "cell_type": "code",
   "execution_count": 19,
   "metadata": {},
   "outputs": [
    {
     "ename": "KeyError",
     "evalue": "'key4'",
     "output_type": "error",
     "traceback": [
      "\u001b[1;31m---------------------------------------------------------------------------\u001b[0m",
      "\u001b[1;31mKeyError\u001b[0m                                  Traceback (most recent call last)",
      "\u001b[1;32m<ipython-input-19-91c1e5997b2c>\u001b[0m in \u001b[0;36m<module>\u001b[1;34m\u001b[0m\n\u001b[1;32m----> 1\u001b[1;33m \u001b[0ma\u001b[0m\u001b[1;33m[\u001b[0m\u001b[1;34m'key4'\u001b[0m\u001b[1;33m]\u001b[0m\u001b[1;33m\u001b[0m\u001b[1;33m\u001b[0m\u001b[0m\n\u001b[0m",
      "\u001b[1;31mKeyError\u001b[0m: 'key4'"
     ]
    }
   ],
   "source": [
    "# KeyError\n",
    "a['key4']"
   ]
  },
  {
   "cell_type": "code",
   "execution_count": 20,
   "metadata": {},
   "outputs": [
    {
     "data": {
      "text/plain": [
       "False"
      ]
     },
     "execution_count": 20,
     "metadata": {},
     "output_type": "execute_result"
    }
   ],
   "source": [
    "# 키를 미리 확인\n",
    "'key4' in a"
   ]
  },
  {
   "cell_type": "code",
   "execution_count": 21,
   "metadata": {},
   "outputs": [
    {
     "name": "stdout",
     "output_type": "stream",
     "text": [
      "존재하지 않는 키\n"
     ]
    }
   ],
   "source": [
    "if 'key4' in a:\n",
    "    print('존재하는 키')\n",
    "else:\n",
    "    print('존재하지 않는 키')"
   ]
  },
  {
   "cell_type": "markdown",
   "metadata": {},
   "source": [
    "- 딕셔너리에 있는 키/값은 **for** 반복문으로 조회가 가능\n",
    "```python\n",
    ">>> for k, v in a.items():\n",
    "        print(k, v)\n",
    "key1 value1\n",
    "key2 value2\n",
    "key3 value3\n",
    "```\n",
    "    - **items()** 메소드를 사용하면 키와 값을 각각 꺼내올 수 있음<br/> <br/>\n",
    "    \n",
    "- 딕셔너리의 키는 **del** 키워드로 삭제\n",
    "```python\n",
    ">>> del a['key1']\n",
    ">>> a\n",
    "{'key2': 'value2', 'key3': 'value3'}\n",
    "```"
   ]
  },
  {
   "cell_type": "code",
   "execution_count": 22,
   "metadata": {},
   "outputs": [
    {
     "name": "stdout",
     "output_type": "stream",
     "text": [
      "key1 value1\n",
      "key2 value2\n",
      "key3 value3\n"
     ]
    }
   ],
   "source": [
    "# 키/값 조회\n",
    "for k, v in a.items():\n",
    "    print(k, v)"
   ]
  },
  {
   "cell_type": "code",
   "execution_count": 23,
   "metadata": {},
   "outputs": [
    {
     "data": {
      "text/plain": [
       "{'key2': 'value2', 'key3': 'value3'}"
      ]
     },
     "execution_count": 23,
     "metadata": {},
     "output_type": "execute_result"
    }
   ],
   "source": [
    "# 키 삭제\n",
    "del a['key1']\n",
    "a"
   ]
  },
  {
   "cell_type": "markdown",
   "metadata": {},
   "source": [
    "## 2.2 딕셔너리 모듈\n",
    "- - -\n",
    "- 딕셔너리와 관련된 특수한 형태의 **컨테이너** 자료형: defaultdict, Counter, OrderedDict <br/><br/>"
   ]
  },
  {
   "cell_type": "markdown",
   "metadata": {},
   "source": [
    "1. **defaultdict 객체**\n",
    "    - 존재하지 않는 키를 조회할 경우, 에러 메시지를 출력하는 대신 **디폴트 값을 기준으로 해당 키에 대한 딕셔너리 아이템을 생성**\n",
    "    - 실제로는 collections.defaultdict 클래스를 가짐\n",
    "```python\n",
    ">>> a = collections.defaultdict(int)\n",
    ">>> a['A'] = 5\n",
    ">>> a['B'] = 4\n",
    ">>> a\n",
    "defaultdict(int, {'A': 5, 'B': 4})\n",
    "```\n",
    "    - 이 딕셔너리에는 A와 B에 5와 4를 할당해 2개의 아이템이 존재\n",
    "```python\n",
    ">>> a['C'] += 1\n",
    ">>> a\n",
    "defaultdict(int, {'A': 5, 'B': 4, 'C': 1})\n",
    "```\n",
    "        - C는 존재하지 않는 키이므로 원래라면 KeyError가 발생하겠지만, defaultdict 객체는 **에러 없이 바로 +1 연산이 가능**\n",
    "            - 이 경우 디폴트인 0을 기준으로 **자동으로 생성**한 후 여기에 1을 더해줌"
   ]
  },
  {
   "cell_type": "code",
   "execution_count": 26,
   "metadata": {},
   "outputs": [
    {
     "data": {
      "text/plain": [
       "defaultdict(int, {'A': 5, 'B': 4})"
      ]
     },
     "execution_count": 26,
     "metadata": {},
     "output_type": "execute_result"
    }
   ],
   "source": [
    "import collections\n",
    "\n",
    "# defaultdict 객체\n",
    "a = collections.defaultdict(int)\n",
    "a['A'] = 5\n",
    "a['B'] = 4\n",
    "a"
   ]
  },
  {
   "cell_type": "code",
   "execution_count": 27,
   "metadata": {},
   "outputs": [
    {
     "data": {
      "text/plain": [
       "defaultdict(int, {'A': 5, 'B': 4, 'C': 1})"
      ]
     },
     "execution_count": 27,
     "metadata": {},
     "output_type": "execute_result"
    }
   ],
   "source": [
    "# 키 추가\n",
    "a['C'] += 1\n",
    "a"
   ]
  },
  {
   "cell_type": "markdown",
   "metadata": {},
   "source": [
    "2. **Counter 객체**\n",
    "    - **아이템에 대한 개수**를 계산해 딕셔너리로 리턴\n",
    "```python\n",
    ">>> a = [1, 2, 3, 4, 5, 5, 5, 6, 6]\n",
    ">>> b = collections.Counter(a)\n",
    ">>> b\n",
    "Counter({1: 1, 2: 1, 3: 1, 4: 1, 5: 3, 6: 2})\n",
    "```\n",
    "        - Counter 객체는 **키에는 아이템의 값이, 값에는 해당 아이템의 개수**가 들어간 딕셔너리를 생성 <br/><br/>\n",
    "    - 실제로는 딕셔너리를 한 번 더 래핑(Wrapping)한 collections.Counter 클래스를 가짐\n",
    "```python\n",
    ">>> type(b)\n",
    "collections.Counter\n",
    "```\n",
    "    - **most_common()**: Counter 객체에서 가장 빈도 수가 높은 요소를 추출해줌\n",
    "```python\n",
    ">>> b.most_common(2)\n",
    "[(5, 3), (6, 2)]\n",
    "```\n",
    "        - 가장 빈도가 높은 2개의 요소를 추출"
   ]
  },
  {
   "cell_type": "code",
   "execution_count": 28,
   "metadata": {},
   "outputs": [
    {
     "data": {
      "text/plain": [
       "Counter({1: 1, 2: 1, 3: 1, 4: 1, 5: 3, 6: 2})"
      ]
     },
     "execution_count": 28,
     "metadata": {},
     "output_type": "execute_result"
    }
   ],
   "source": [
    "# Counter 객체\n",
    "a = [1, 2, 3, 4, 5, 5, 5, 6, 6]\n",
    "b = collections.Counter(a)\n",
    "b"
   ]
  },
  {
   "cell_type": "code",
   "execution_count": 29,
   "metadata": {},
   "outputs": [
    {
     "data": {
      "text/plain": [
       "collections.Counter"
      ]
     },
     "execution_count": 29,
     "metadata": {},
     "output_type": "execute_result"
    }
   ],
   "source": [
    "# 타입 확인\n",
    "type(b)"
   ]
  },
  {
   "cell_type": "code",
   "execution_count": 31,
   "metadata": {},
   "outputs": [
    {
     "data": {
      "text/plain": [
       "[(5, 3), (6, 2)]"
      ]
     },
     "execution_count": 31,
     "metadata": {},
     "output_type": "execute_result"
    }
   ],
   "source": [
    "# most_common()\n",
    "b.most_common(2)"
   ]
  },
  {
   "cell_type": "markdown",
   "metadata": {},
   "source": [
    "3. **OrderedDict 객체**\n",
    "    - 대부분의 언어에서 해시 테이블을 이용한 자료형은 입력 순서가 유지되지 않음\n",
    "    - 파이썬 3.6 이하에서도 마찬가지였고 입력 **순서가 유지되는 OrderedDict**라는 별도의 객체를 제공\n",
    "    - 아래와 같이 입력값을 부여할 경우 OrderedDict는 입력 그대로 순서가 유지됨\n",
    "```python\n",
    ">>> collections.OrderedDict({'banana' : 3, 'apple' : 4, 'pear' : 1, 'orange' : 2})\n",
    "OrderedDict([('banana', 3), ('apple', 4), ('pear', 1), ('orange', 2)])\n",
    "```\n",
    "    - **파이썬 3.7**부터 딕셔너리는 내부적으로 인덱스를 이용하며 **입력 순서가 유지**되도록 개선\n",
    "    - OrderedDict는 순서와 관련된 몇 가지 추가 메소드를 제공한다는 점 이외에 **하위 호환성**을 위해서 남겨짐"
   ]
  },
  {
   "cell_type": "code",
   "execution_count": 32,
   "metadata": {},
   "outputs": [
    {
     "data": {
      "text/plain": [
       "OrderedDict([('banana', 3), ('apple', 4), ('pear', 1), ('orange', 2)])"
      ]
     },
     "execution_count": 32,
     "metadata": {},
     "output_type": "execute_result"
    }
   ],
   "source": [
    "collections.OrderedDict({'banana' : 3, 'apple' : 4, 'pear' : 1, 'orange' : 2})"
   ]
  },
  {
   "cell_type": "markdown",
   "metadata": {},
   "source": [
    "#### !문법! **타입  선언**\n",
    "- 파이썬에서 타입 선언 문법은 **타입의 이름**으로 지정하는 방법도 있지만 **기호**를 통해 좀 더 간편하게 처리 가능 <br/><br/>\n",
    "\n",
    "1. **이름**으로 선언\n",
    "```python\n",
    ">>> a = list()\n",
    ">>> type(a)\n",
    "list\n",
    "```\n",
    "    - 이름으로 리스트를 선언하고 타입을 확인하면 list 자료형이 됨 <br/><br/>\n",
    "2. **기호**로 선언\n",
    "```python\n",
    ">>> type([])\n",
    "list\n",
    ">>> type(())\n",
    "tuple\n",
    ">>> type({})\n",
    "dict\n",
    ">>> type({1})\n",
    "set\n",
    "```\n",
    "    - 딕셔너리와 집합은 같은 중괄호 {}를 사용하지만 **키의 존재 유무**로 서로 다른 자료형으로 선언"
   ]
  },
  {
   "cell_type": "code",
   "execution_count": 33,
   "metadata": {},
   "outputs": [
    {
     "data": {
      "text/plain": [
       "list"
      ]
     },
     "execution_count": 33,
     "metadata": {},
     "output_type": "execute_result"
    }
   ],
   "source": [
    "# 이름으로 선언\n",
    "a = list()\n",
    "type(a)"
   ]
  },
  {
   "cell_type": "code",
   "execution_count": 34,
   "metadata": {},
   "outputs": [
    {
     "data": {
      "text/plain": [
       "list"
      ]
     },
     "execution_count": 34,
     "metadata": {},
     "output_type": "execute_result"
    }
   ],
   "source": [
    "# 기호로 선언: list\n",
    "type([])"
   ]
  },
  {
   "cell_type": "code",
   "execution_count": 35,
   "metadata": {},
   "outputs": [
    {
     "data": {
      "text/plain": [
       "tuple"
      ]
     },
     "execution_count": 35,
     "metadata": {},
     "output_type": "execute_result"
    }
   ],
   "source": [
    "# 기호로 선언: tuple\n",
    "type(())"
   ]
  },
  {
   "cell_type": "code",
   "execution_count": 36,
   "metadata": {},
   "outputs": [
    {
     "data": {
      "text/plain": [
       "dict"
      ]
     },
     "execution_count": 36,
     "metadata": {},
     "output_type": "execute_result"
    }
   ],
   "source": [
    "# 기호로 선언: dict\n",
    "type({})"
   ]
  },
  {
   "cell_type": "code",
   "execution_count": 37,
   "metadata": {},
   "outputs": [
    {
     "data": {
      "text/plain": [
       "set"
      ]
     },
     "execution_count": 37,
     "metadata": {},
     "output_type": "execute_result"
    }
   ],
   "source": [
    "# 기호로 선언: set\n",
    "type({1})"
   ]
  }
 ],
 "metadata": {
  "kernelspec": {
   "display_name": "Python 3",
   "language": "python",
   "name": "python3"
  },
  "language_info": {
   "codemirror_mode": {
    "name": "ipython",
    "version": 3
   },
   "file_extension": ".py",
   "mimetype": "text/x-python",
   "name": "python",
   "nbconvert_exporter": "python",
   "pygments_lexer": "ipython3",
   "version": "3.7.3"
  }
 },
 "nbformat": 4,
 "nbformat_minor": 2
}
