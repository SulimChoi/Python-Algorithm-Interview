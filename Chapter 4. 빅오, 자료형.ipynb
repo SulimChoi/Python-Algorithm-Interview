{
 "cells": [
  {
   "cell_type": "markdown",
   "metadata": {},
   "source": [
    "### !주요 내용!\n",
    "1. 빅오의 개념\n",
    "2. 상한과 최악\n",
    "3. 분할 상환 분석\n",
    "4. 파이썬 자료형"
   ]
  },
  {
   "cell_type": "markdown",
   "metadata": {},
   "source": [
    "# 1. 빅오의 개념\n",
    "- - -\n",
    "\n",
    "- 빅오의 활용\n",
    "    - 입력값이 커질 때 **시간 복잡도**(알고리즘의 실행 시간)와 함께 **공간 복잡도**(공간 요구사항)이 어떻게 증가하는지를 분류하는데 사용\n",
    "    - **알고리즘을 분석**하는데 유용하게 활용됨\n",
    "    \n",
    "    \n",
    "## 1.1 빅오\n",
    "- - -\n",
    "- 점근적 실행 시간: 입력값 n이 **무한대로** 향할 때 $ \\lim_{n\\to \\infty} $ 함수의 실행 시간의 추이\n",
    "    - 점근적 실행 시간을 다르게 말하면 **시간 복잡도**라 함\n",
    "- **빅오는 점근적 실행 시간을 표기**할 때 가장 널리 쓰이는 수학적 표기법\n",
    "- 복잡한 알고리즘도 입력의 크기가 작으면 금방 끝나버리므로 알고리즘은 **입력의 크기가 충분히 클 때**를 관심 대상으로 함\n",
    "    - 입력이 클 경우 알고리즘의 효율성에 따라 **수행 시간에 큰 차이**가 남\n",
    "\n",
    "\n",
    "## 1.2 시간 복잡도(Time Complexity)\n",
    "- - -\n",
    "- 사전적 정의: 어떤 **알고리즘을 수행하는데 걸리는 시간을 설명하는 계산 복잡도**(Computational Complexity)를 의미\n",
    "- 계산 복잡도를 표기하는 대표적인 방법이 빅오\n",
    "- 빅오로 시간 복잡도를 표현할 때는 **최고차항만을 표기**하며 **상수항은 무시**\n",
    "    - 에를 들어 $4n^2+3n+4$번만큼 게산하는 함수가 있을 때 이 함수의 시간 복잡도는 최고차항인 $4n^2$만을 고려\n",
    "        - 여기서 상수항을 무시하며 $n^2$만을 고려\n",
    "        - 따라서 시간 복잡도는 $O(n^2)$이 됨\n",
    "- 시간 복잡도를 표기할 때는 **입력값에 따른 알고리즘의 실행 시간의 추이**만을 살핌"
   ]
  },
  {
   "cell_type": "markdown",
   "metadata": {},
   "source": [
    "## 1.3 빅오 표기법의 종류\n",
    "- - -\n",
    "1. $O(1)$: 입력값이 아무리 커도 **실행 시간은 일정** => 최고의 알고리즘\n",
    "    - 상수 시간에 실행되어도 상수값이 엄청나게 클 경우 사실상 일정한 시간의 의미가 없으므로 최고의 알고리즘이 될 수 있지만 신중해야 함\n",
    "    - **해시 테이블의 조회 및 삽입**(11장)이 $O(1)$에 실행 <br/> <br/>\n",
    "2. $O(log n)$: **입력값**만큼 실행시간에 영향을 받음\n",
    "    - **로그**는 **매우 큰 입력값에도 크게 영향을 받지 않는 편**이기 때문에 웬만한 n의 크기에 대해 매우 견고\n",
    "    - **이진 검색**(18장)이 $O(log n)$에 실행 <br/> <br/>\n",
    "3. $O(n)$: 알고리즘을 수행 시간이 **입력값에 비례**\n",
    "    - 입력값만큼 실행시간에 영향을 받음\n",
    "    - 이러한 알고리즘은 **선형 알고리즘**이라고도 함\n",
    "    - **정렬되지 않은 리스트에서 최댓값 또는 최솟값**을 찾는 경우가 $O(n log n)$에 실행 <br/> <br/>\n",
    "4. $O(n log n)$: 대부분의 **효율 좋은 정렬 알고리즘**이 $O(n log n)$에 실행\n",
    "    - **병합 정렬**(17장)이 $O(n log n)$에 실행\n",
    "    - 모든 수에 대해 한 번 이상은 비교해야 하는 **비교 기반 정렬 알고리즘은 $O(n log n)$보다 빠를 수 없음**\n",
    "    - 팀소트(Teamsort)는 입력값이 최선인 경우 비교를 건너뛰어 $O(n)$에 실행될 수 있음 <br/> <br/>\n",
    "5. $O(n^2)$: **비효율적인 정렬 알고리즘**이 $O(n^2)$에 실행\n",
    "    - **버블 정렬**(17장)이 $O(n^2)$에 실행 <br/> <br/>\n",
    "6. $O(2^n)$: **재귀**로 계산하는 알고리즘\n",
    "    - $n^2$과 처음에는 비슷해 보이지만 $2^n$이 훨씬 더 큼\n",
    "    > - $n^2$과 $2^n$의 계산 결과 비교\n",
    "        * $n=4$까지는 차이가 없지만 $n=5$부터 점차 차이가 나기 시작"
   ]
  },
  {
   "cell_type": "code",
   "execution_count": 2,
   "metadata": {},
   "outputs": [
    {
     "name": "stdout",
     "output_type": "stream",
     "text": [
      "1 1 2\n",
      "2 4 4\n",
      "3 9 8\n",
      "4 16 16\n",
      "5 25 32\n",
      "6 36 64\n",
      "7 49 128\n",
      "8 64 256\n",
      "9 81 512\n",
      "10 100 1024\n",
      "11 121 2048\n",
      "12 144 4096\n",
      "13 169 8192\n",
      "14 196 16384\n",
      "15 225 32768\n"
     ]
    }
   ],
   "source": [
    "for n in range(1, 15+1):\n",
    "    print(n, n**2, 2**n)"
   ]
  },
  {
   "cell_type": "markdown",
   "metadata": {},
   "source": [
    "7. $O(n!)$: **가장 느린** 알고리즘. 입력값이 조금만 커져도 **다항 시간 내에 게산하기 힘듦**\n",
    "    - 외판원 문제(각 도시를 방문하고 돌아가는 가장 짧은 경로)를 브루트 포스로 풀이할 때(12장) $O(2^n)$에 실행"
   ]
  },
  {
   "cell_type": "markdown",
   "metadata": {},
   "source": [
    "## 1.4 시간 복잡도와 공간 복잡도\n",
    "- - -\n",
    "- 빅오는 공간 복잡도를 표현하는데도 활용\n",
    "- 시간과 공간은 **트레이드오프 관계**(Space-Time Tradeoff): **실행 시간이 빠른 알고리즘은 공간을 많이 사용하고, 공간을 적게 차지하는 알고리즘은 실행 시간이 느림**\n",
    "- 실행 시간이 빠르면서 공간을 적게 차지하는 알고리즘도 드물게 존재. 하지만 대부분의 경우시간과 공간은 트레이드오프 관계 => 알고리즘의 주요 특징 중 하나"
   ]
  },
  {
   "cell_type": "markdown",
   "metadata": {},
   "source": [
    "# 2. 상한과 최악\n",
    "- - -\n",
    "- **빅오($O$)**는 **상한**(UpperBound)을 의미\n",
    "- 빅오메가($\\Omega$)는 하한(Lower Bound)을 빅세타($\\Theta$)는 평균을 의미\n",
    "- 빅오 표기법은 정확하게 쓰기에는 너무 길고 복잡한 함수를 ***적당히 정확하게*** 표현하는 방법\n",
    "    - 최악의 경우/평균적인 경우의 시간 복잡도와는아무런 관게가 없음"
   ]
  },
  {
   "cell_type": "markdown",
   "metadata": {},
   "source": [
    "## 2.1 최선/평균/최악의 경우\n",
    "- - -\n",
    "<img src=\"https://vaxxxa.github.io/talks/introduction.to.algorithms-computational.complexity/static/images/best-worst-and-average-case-complexity.jpg\" width=\"40%\" height=\"30%\" title=\"문제 크기에 따른 최선, 평균, 최악 복잡도\"></img>\n",
    "- N=4일 때 같은 크기라도 최선의 경우 몇 번의 연산만으로 실행이 완료되지만 최악의 경우에는 3배 이상의 연산이 필요 <br/> <br/>\n",
    "- 예시: **퀵 정렬**(17장)\n",
    "    - 입력값이 **[1, 4, 3, 7, 8, 6, 5]**일 때, 로무토 파티션(피벗을 정할 때 가장 우측을 택하는 가장 단순한 피벗 선택 방식)에서 이 입력값은 **최선의 경우**에 해당\n",
    "        - 모두 정렬하기 위해 총 18번의 비교 또는 스왑 연산이 필요\n",
    "        - n = 7인 경우이니 **$O(n log n)$에 가까움**\n",
    "    - 입력값이 **[1, 2, 3, 4, 5, 6 ,7]**일 때에는 **최악의 경우**에 해당\n",
    "        - 모두 정렬하기 위해 총 48번의 연산을 수행\n",
    "        - 이 경우 **$O(n^2)$에 가까움**\n",
    "    - 평균적으로 24번의 연산이 필요\n",
    "    - 즉 n = 7인 경우 **최선, 평균, 최악의 연산 횟수는 각각 18, 24, 48**이며 이 값은 n이 커져도 비슷한 비율로 유지될 것"
   ]
  },
  {
   "cell_type": "markdown",
   "metadata": {},
   "source": [
    "## 2.2 빅오 표기\n",
    "- - -\n",
    "<img src=\"https://i.stack.imgur.com/x2at4.png\" width=\"70%\" height=\"60%\" title=\"문제 크기에 따른 최선, 평균, 최악 복잡도\"></img>\n",
    "- 복잡한 함수 $f(n)$이 있을 경우, 이 함수의 **실행 상한과 하한**을 의미\n",
    "    - **하한**: 가장 빨리 실행될 때, **상한**: 가장 늦게 실행될 때\n",
    "    - 가장 늦게 실행될 때 즉, **상한일 때 빅오($O$)**, 가장 빨리 실행될 때 즉, **하한일 때 빅오메가($\\Omega$)**, **평균적으로는 빅세타($\\Theta$)**로 지칭\n",
    "- $n$이 작을 때($n_0$ 이하일 때)의 값이 작은 경우는 무시\n",
    "- 빅오 표기법은 **$n$이 매우 큰 경우**에 집중 <br/> <br/>\n",
    "- 예시: 퀵 정렬(17장)\n",
    "    - '최선의 경우 $O(n log n)$이다.'라는 말은 입력값이 [1, 4, 3, 7, 8, 6, 5]일 때 **최대 연산이 $n log n$ 이내**라는 뜻\n",
    "        - 실제로 $n log n$를 자연로그로 게산했을 때 14 정도이며, 최선의 경우 연산 횟수는 18이었으므로, 상수항 생략을 감안하면 비슷한 수치\n",
    "    - '**최선의 경우 $O(n^2)$이다.**'라는 명제도 참\n",
    "        - 빅오는 상한을 의미하므로 **실제 연산 횟수가 $n^2$보다 작기만 하면** 되기 때문\n",
    "        - 같은 이유로 '최선의 경우 $O(n^3)$이다.'라는 명체도 참이지만 상한을 지나치게 높게 설정했기 때문에 아무런 의미가 없음\n",
    "        \n",
    "#### !정리!: 빅오 표기법은 **주어진(최선/최악/평균) 경우의 수행 시간의 상한을 나타냄**"
   ]
  },
  {
   "cell_type": "markdown",
   "metadata": {},
   "source": [
    "# 3. 분할 상환 분석, 병렬화\n",
    "- - -\n",
    "## 3.1 분할 상환 분석\n",
    "---\n",
    "- 등장 배경: 알고리즘의 복잡도를 계산할 때, 알고리즘 **전체가 아닌 최악의 경우**만을 살펴보는 것은 지나치게 **비관적**이라는 이유로 분할 상환 분석이 등장하게 됨\n",
    "- **분할 상환 분석**(Amortized Analysis)은 빅오와 함께 함수의 동작을 설명할 때 중요한 분석 방법 중 하나\n",
    "- 대표적인 예: **동적 배열**\n",
    "    - 동적 배열에서 더블링이 일어나는 경우는 어쩌다 한 번이지만 이로 인해 '**아이템 삽입 시간 복잡도는 $O(n)$이다.**'라고 얘기하는 것은 지나치게 **비관적이며 정확하지 않음**\n",
    "- 동적 배열과 같은 경우 **최악의 경우를 여러 번에 걸쳐 골고루 나눠주는 형태**로 알고리즘의 시간 복잡도를 계산\n",
    "    - 분할 상환 분석을 이용해 계산할 경우 **동적 배열의 삽입** 시 시간 복잡도는 $O(n)$이 됨\n",
    "\n",
    "## 3.2 병렬화\n",
    "---\n",
    "- 일부 알고리즘은 **병렬화**를 통해 **실행 속도를 높일 수 있음**\n",
    "- **GPU**는 병렬 연산을 위한 대표적인 장치\n",
    "    - GPU 각각의 코어는 CPU보다 훨씬 느리지만 GPU의 코어는 수천여 개로 구성되어 있어 수십여 개에 불과한 CPU보다 수백 배 더 많은 연산을 동시에 수행 가능\n",
    "    - **GPU는 CPU보다 같은 시간 안에 더 많은 연산을 수행 가능**\n",
    "- 알고리즘 자체의 시간 복잡도 외에 알고리즘이 병렬화가 가능한지는 최근에 들어 알고리즘의 우수성을 평가하는 매우 중요한 척도 중 하나\n"
   ]
  },
  {
   "cell_type": "markdown",
   "metadata": {},
   "source": [
    "# 4. 파이썬 자료형\n",
    "---\n",
    "## 4.1 파이썬 자료형\n",
    "<img src=\"https://upload.wikimedia.org/wikipedia/commons/thumb/1/10/Python_3._The_standard_type_hierarchy.png/636px-Python_3._The_standard_type_hierarchy.png\" width=\"40%\" height=\"30%\" title=\"파있너 3 표준 타입 계층 구조\"></img>"
   ]
  },
  {
   "cell_type": "markdown",
   "metadata": {},
   "source": [
    "#### 1. 숫자\n",
    "\n",
    "- **int**: 파이썬에서 숫자는 정수형으로 **int**만 제공\n",
    "    - 파이썬 2까지 int와 long을 별도로 제공\n",
    "        - int는 C 스타일의 고정 정밀도(Fixed-Precision) 정수형, long은 임의 정밀도(Aribirary-Precision) 정수형\n",
    "    - 버전 2.4부터는 int가 충분하지 않으면 자동으로 long 타입으로 변경되는 구조가 되면서 오버플로가 발생하는 일이 사라짐\n",
    "    - 버전 3부터는 아예 int 단일형으로 통합\n",
    "    - **int는 임의 정밀도를 지원**하며 파이썬에서 고정 정밀도 정수형은 지원 X <br/><br/>\n",
    "\n",
    "- **!참고! 임의 정밀도**    \n",
    "    - 임의 정밀도 정수형은 **무제한 자릿수를 제공**하는 정수형을 의미\n",
    "    - 정수를 숫자의 배열로 간주해 자릿수 단위로 쪼개어 **배열** 형태로 표현\n",
    "    - 임의 정밀도의 원리와 유사한 문제는 19장, '비트 조작'에서 전가산기를 응용한 문제를 풀이할 때 다시 다룰 것\n",
    "    - 단점: 계산 속도 저하\n",
    "    - 장점: 숫자를 **단일형으로 처리**가 가능하며 언어를 매우 **단순한 구조**로 만들 수 있고, 언어를 사용하는 입장에서도 **오버플로를 고민할 필요가 없어** 잘못된 계산 오류 방지 <br/> <br/>\n",
    "\n",
    "- **bool**: 엄밀히 따지면 논리 자료형이지만 파이썬 내부적으로는 **1(True), 0(False)**로 처리하는 **int의 서브 클래스**\n",
    "    - int는 object의 하위 클래스이기도 하기 때문에 **object > int > bool** 구조를 가짐"
   ]
  },
  {
   "cell_type": "markdown",
   "metadata": {},
   "source": [
    "#### 2. 매핑(Mapping)\n",
    "- **키와 자료형**으로 구성된 복합 자료형\n",
    "- 파이썬에 내장된 유일한 매핑 자료형은 **딕셔너리**\n",
    "    - 딕셔너리는 5장에서 자세히\n",
    "\n",
    "#### 3. 집합\n",
    "- 집합 자료형인 set은 **중복된 값을 갖지 않는 자료형** <br/> <br/>\n",
    "- **빈 집합** 선언\n",
    "```python\n",
    ">>> a = set()\n",
    ">>> a\n",
    "set()\n",
    ">>> type(a)\n",
    "<class 'set>\n",
    "```\n",
    "- **값이 포함**된 집합 선언\n",
    "    - 딕셔너리와 동일하게 {}를 사용하므로 조심해야 함\n",
    "    - 구분: 딕셔너리는 키(Key)/값(Value)의 형태로 입력하지만 **집합은 값만 입력**\n",
    "        - 동일한 방식으로 파이썬 컴파일러는 타입을 자동으로 결정\n",
    "```python\n",
    ">>> a  {'a', 'b', 'c'}\n",
    ">>> type(a)\n",
    "<class 'set'>\n",
    ">>> a = {'a':'A', 'b':'B', 'c':'C'}\n",
    ">>> type(a)\n",
    "<class 'dict'>\n",
    "```\n",
    "- set은 **입력 순서가 유지되지 않고, 중복된 값이 있을 경우 하나의 값만** 유지\n",
    "```python\n",
    ">>> a = {3, 2, 3, 5}\n",
    ">>> a\n",
    "{2, 3, 5}\n",
    "```"
   ]
  },
  {
   "cell_type": "code",
   "execution_count": 10,
   "metadata": {},
   "outputs": [
    {
     "data": {
      "text/plain": [
       "set()"
      ]
     },
     "execution_count": 10,
     "metadata": {},
     "output_type": "execute_result"
    }
   ],
   "source": [
    "# 빈 집합\n",
    "a = set()\n",
    "a"
   ]
  },
  {
   "cell_type": "code",
   "execution_count": 11,
   "metadata": {},
   "outputs": [
    {
     "data": {
      "text/plain": [
       "set"
      ]
     },
     "execution_count": 11,
     "metadata": {},
     "output_type": "execute_result"
    }
   ],
   "source": [
    "type(a)"
   ]
  },
  {
   "cell_type": "code",
   "execution_count": 13,
   "metadata": {},
   "outputs": [
    {
     "data": {
      "text/plain": [
       "set"
      ]
     },
     "execution_count": 13,
     "metadata": {},
     "output_type": "execute_result"
    }
   ],
   "source": [
    "# 값이 포함된 집합\n",
    "a = {'a', 'b', 'c'}\n",
    "type(a)"
   ]
  },
  {
   "cell_type": "code",
   "execution_count": 14,
   "metadata": {},
   "outputs": [
    {
     "data": {
      "text/plain": [
       "dict"
      ]
     },
     "execution_count": 14,
     "metadata": {},
     "output_type": "execute_result"
    }
   ],
   "source": [
    "a = {'a':'A', 'b':'B', 'c':'C'}\n",
    "type(a)"
   ]
  },
  {
   "cell_type": "code",
   "execution_count": 15,
   "metadata": {},
   "outputs": [
    {
     "data": {
      "text/plain": [
       "{2, 3, 5}"
      ]
     },
     "execution_count": 15,
     "metadata": {},
     "output_type": "execute_result"
    }
   ],
   "source": [
    "# 중복된 값\n",
    "a = {3, 2, 3, 5}\n",
    "a"
   ]
  },
  {
   "cell_type": "markdown",
   "metadata": {},
   "source": [
    "#### 4. 시퀀스(Sequence)\n",
    "- 수열과 같은 의미. 어떤 **특정 대상의 순서 있는 나열**을 의미\n",
    "    - **str**: 문자의 순서 있는 나열로 문자열을 이루는 자료형\n",
    "    - **list**: 다양한 값들을 **배열 형태**의 순서 있는 나열로 구성하는 자료형\n",
    "        - 배열이 없는 파이썬에서는 list 타입이 배열의 역할을 수행\n",
    "- 시퀀스는 불변(Immuttable)과 가변(Mutable)로 구분\n",
    "- **불변**: 값을 변경할 수 없음. **str, tuple, bytes**가 해당\n",
    "    - 한번 이 타입으로 선언되는 값은 변경 불가\n",
    "    - str 변수\n",
    "```python\n",
    ">>> a = 'abc'\n",
    ">>> a = 'def'\n",
    ">>> type(a)\n",
    "<class 'str'>\n",
    "```\n",
    "        - a 변수는 str 자료형이지만 abc를 할당한 이후 def를 할당. a 변수의 값이 변경되었다고 볼 수 있음\n",
    "        - 하지만 맨 처음 a 변수에 할당된 str 타입인 **abc는 변경된 적이 없음** => 불변\n",
    "        - 이후에 a 변수는 다른 str 타입인 def를 **다시 참조했을 뿐** 실제로 abc도 def도 한번 생성된 후 **변경된 적이 없음**\n",
    "        \n",
    "    ```python\n",
    ">>> a = 'abc'\n",
    ">>> id('abc')\n",
    "2111325267424\n",
    ">>> id(a)\n",
    "2111325267424\n",
    ">>> a = 'def'\n",
    ">>> id('def')\n",
    "2111357028088\n",
    ">>> id(a)\n",
    "2111357028088\n",
    "```\n",
    "        - 각각의 메모리 변수 주소를 출력해보면 a 변수는 처음에는 **abc를 참조했다가**(a 변수, abc의 주소가 같음) 이후에는 **def를 참조하도록 변경**되었을 뿐(a 변수, def의 주소가 같음) **abc와 def는 생성된 후에 변하지 않고** 메모리 어딘가에 남아 있음\n",
    "        - str이 변경되기 위해서는 참조하고 있는 str에 대해 할당자가 처리되어야 하는데 여기서는 오류가 발생\n",
    "    \n",
    "    ```python\n",
    ">>> a[1] = 'd'\n",
    "Traceback (most recent call last)\n",
    "<ipython-input-22-dbab97e2e3ea> in <module>\n",
    "----> 1 a[1] = 'd'\n",
    "TypeError: 'str' object does not support item assignment\n",
    "```\n",
    "- **가변**: 값을 변경할 수 있음. **list**가 해당\n",
    "    - 리스트는 자료롭게 값을 추가, 삭제할 수 있는 동적 배열\n",
    "    - 리스트에 대한 내용은 5장에서 다룰 것"
   ]
  },
  {
   "cell_type": "code",
   "execution_count": 16,
   "metadata": {},
   "outputs": [
    {
     "data": {
      "text/plain": [
       "2111325267424"
      ]
     },
     "execution_count": 16,
     "metadata": {},
     "output_type": "execute_result"
    }
   ],
   "source": [
    "# 메모리 변수 주소 출력\n",
    "a = 'abc'\n",
    "id('abc')"
   ]
  },
  {
   "cell_type": "code",
   "execution_count": 17,
   "metadata": {},
   "outputs": [
    {
     "data": {
      "text/plain": [
       "2111325267424"
      ]
     },
     "execution_count": 17,
     "metadata": {},
     "output_type": "execute_result"
    }
   ],
   "source": [
    "id(a)"
   ]
  },
  {
   "cell_type": "code",
   "execution_count": 20,
   "metadata": {},
   "outputs": [
    {
     "data": {
      "text/plain": [
       "2111357028088"
      ]
     },
     "execution_count": 20,
     "metadata": {},
     "output_type": "execute_result"
    }
   ],
   "source": [
    "a = 'def'\n",
    "id('def')"
   ]
  },
  {
   "cell_type": "code",
   "execution_count": 21,
   "metadata": {},
   "outputs": [
    {
     "data": {
      "text/plain": [
       "2111357028088"
      ]
     },
     "execution_count": 21,
     "metadata": {},
     "output_type": "execute_result"
    }
   ],
   "source": [
    "id(a)"
   ]
  },
  {
   "cell_type": "markdown",
   "metadata": {},
   "source": [
    "## 4.2 원시 타입\n",
    "- **C, 자바**와 같은 대표적인 프로그래밍 언어들은 기본적으로 **원시 타입**을 제공\n",
    "    - C 언어는 동일한 정수형이라도 크기나 부호에 따라 매우 다양한 원시 타입을 제공\n",
    "- 원시 타입은 **메모리에 정확하게 타입 크기만큼의 공간을 할당하고 그 공간을 오로지 값으로 채움**\n",
    "    - 배열이라면 물리 메모리(Physical Memory)에 자료형의 크기만큼 공간을 갖는 요소가 연속된 순서로 배치되는 형태\n",
    "- 원시 타입을 통해 매우 **빠른 연산**이 가능\n",
    "- 자바에서 정수형 원시 타입은 C와 문법이 동일하며 아래와 같이 선언\n",
    "```java\n",
    "int a = 5;\n",
    "``` \n",
    "<br/>\n",
    "- **자바**는 원시 타입에 대응되는 클래스 **객체**를 지원\n",
    "```java\n",
    "Integer a = new Integer(5);\n",
    "```\n",
    "    - 장점: 원시 타입과 대응되는 객체를 갖고 있으며 **원시 타입을 객체로 변환하면 여러가지 작업 수행이 가능**해짐\n",
    "        - 문자로 변환, 16진수로 변환, 시프팅(Shifting) 같은 비트 조작도 지원\n",
    "    - 단점: 여러 부가 정보가 추가되므로 **메모리 점유율이 늘어나고 계산 속도가 감소**\n",
    "- C, 자바는 성능에 대한 우선순위가 높은 언어이기 때문에 원시 타입을 별도로 제공하며 원시 타입으로 구현했을 때 훨씬 더 빠른 속도로 실행이 가능<br/><br/>\n",
    "- **편리한 기능 제공**에 우선순위를 둔 **파이썬은 원시 타입을 지원하지 않음**\n",
    "    - 느린 속도와 더 많은 메모리를 차지하더라도 훨씬 다양한 기능을 제공하는 **객체**에 더 관심을 둠"
   ]
  },
  {
   "cell_type": "markdown",
   "metadata": {},
   "source": [
    "## 4.3 객체\n",
    "- 파이썬은 모든 것이 객체이며 **불변 객체**(Immutable Object)와 **가변 객체**(Mutable Object)로 구분\n",
    "- 파이썬의 각 자료형에 대한 불변 여부\n",
    "\n",
    "|클래스|설명|불변 객체|\n",
    "|:------|:---|:---:|\n",
    "|bool|부울|o\n",
    "|int|정수|o\n",
    "|float|실수|o\n",
    "|**list**|리스트|**x**\n",
    "|tuple|리스트와 튜플의 차이는 불변 여부이며 이외에는 거의 동일|o\n",
    "|str|문자|o\n",
    "|**set**|중복된 값을 갖지 않는 집합 자료형|**x**\n",
    "|**dict**|딕셔너리|**x**\n",
    "\n",
    "- **불변 객체**\n",
    "    - **문자와 숫자**\n",
    "        - 파이썬에서 변수를 할당하는 작업은 해당 객체에 대해 **참조**한다는 것을 의미\n",
    "        - 파이썬은 모든 것이 객체이며 심지어 문자와 숫자도 모두 객체\n",
    "            - 문자와 숫자는 불변 객체라는 차이가 있음     \n",
    "```python\n",
    ">>> 10\n",
    ">>> a = 10\n",
    ">>> b = a\n",
    ">>> id(10), id(a), id(b)\n",
    "(140707129758816, 140707129758816, 140707129758816)\n",
    "```\n",
    "        - 만약 모두 원시 타입이라면 각각의 값들은 각 메모리의 다른 영역에 위치해야함\n",
    "        - 파이썬은 모두 **객체**이므로, 메모리 상에 위치한 객체의 주소를 얻어오는 **id() 함수 결과가 모두 동일**\n",
    "        - 값을 담고 있는 변수는 사실 참조일 뿐이고 **실제로 값을 갖고 있는 int와 str은 모두 불변 객체**<br/><br/>\n",
    "    \n",
    "    - **tuple**: 한번 값을 담아두면 더 이상 값 변경이 불가\n",
    "        - **read-only** 용도로 사용하거나 값이 변하지 않기 때문에 **dict의 카나 set의 값**으로도 사용 가능\n",
    "        - 값이 변할 수 있는 list는 dict의 키로정하거나 set의 값으로 추가할 수 없음<br/><br/>\n",
    "\n",
    "- **가변 객체**\n",
    "    - **list**는 값이 바뀔 수 있으며 **다른 변수가 참조하고 있으 때 그 변수의 값도 변경됨**\n",
    "    ```python\n",
    ">>> a = [1, 2, 3, 4, 5]\n",
    ">>> b = a\n",
    ">>> b\n",
    "[1, 2, 3, 4, 5]\n",
    ">>> a[2] = 4\n",
    ">>> a\n",
    "[1, 2, 4, 4, 5]\n",
    ">>> b\n",
    "[1, 2, 4, 4, 5]\n",
    "```\n",
    "        - list인 a의 요소 하나를 조작해서 값을 변경 => b의 값도 함께 변경됨\n",
    "        - b가 int나 str을 참조하고 있다면 불변 객체이기 때문에 값이 변경되지 않겠지만 list는 가변 객체이기 때문에 값이 변경됨"
   ]
  },
  {
   "cell_type": "code",
   "execution_count": 23,
   "metadata": {},
   "outputs": [
    {
     "data": {
      "text/plain": [
       "(140707129758816, 140707129758816, 140707129758816)"
      ]
     },
     "execution_count": 23,
     "metadata": {},
     "output_type": "execute_result"
    }
   ],
   "source": [
    "# 불변 객체\n",
    "10\n",
    "a = 10\n",
    "b = a\n",
    "id(10), id(a), id(b)"
   ]
  },
  {
   "cell_type": "code",
   "execution_count": 24,
   "metadata": {},
   "outputs": [
    {
     "data": {
      "text/plain": [
       "[1, 2, 3, 4, 5]"
      ]
     },
     "execution_count": 24,
     "metadata": {},
     "output_type": "execute_result"
    }
   ],
   "source": [
    "# 가변 객체\n",
    "a = [1, 2, 3, 4, 5]\n",
    "b = a\n",
    "b"
   ]
  },
  {
   "cell_type": "code",
   "execution_count": 25,
   "metadata": {},
   "outputs": [],
   "source": [
    "a[2] = 4"
   ]
  },
  {
   "cell_type": "code",
   "execution_count": 26,
   "metadata": {},
   "outputs": [
    {
     "data": {
      "text/plain": [
       "[1, 2, 4, 4, 5]"
      ]
     },
     "execution_count": 26,
     "metadata": {},
     "output_type": "execute_result"
    }
   ],
   "source": [
    "a"
   ]
  },
  {
   "cell_type": "code",
   "execution_count": 27,
   "metadata": {},
   "outputs": [
    {
     "data": {
      "text/plain": [
       "[1, 2, 4, 4, 5]"
      ]
     },
     "execution_count": 27,
     "metadata": {},
     "output_type": "execute_result"
    }
   ],
   "source": [
    "b"
   ]
  },
  {
   "cell_type": "markdown",
   "metadata": {},
   "source": [
    "**!참고!** is와 ==\n",
    "- **is**는 **id() 값**을 비교하는 함수\n",
    "    - None은 널(null)로서 값 잧가 정의되어 있지 않으므로 ==로 비교가 불가능하므로 is로만 비교가 가능\n",
    "```python\n",
    "if a is None:\n",
    "        pass\n",
    "```\n",
    "\n",
    "- **==**은 **값을 비교**하는 연산자\n",
    "```python\n",
    ">>> a = [1, 2, 3]\n",
    ">>> a == a\n",
    "True\n",
    ">>> a == list(a)\n",
    "True\n",
    ">>> a is a\n",
    "True\n",
    ">>> a is list(a)\n",
    "False\n",
    "```\n",
    "    - 값은 동일하지만 **list()로 한 번 더 묶어주면** 별도의 객체로 복사가 되고 **다른 ID를 갖게 되기** 때문에 is는 False가 됨\n",
    "\n",
    "```python\n",
    ">>> a = [1, 2, 3]\n",
    ">>> a == copy.deepcopy(a)\n",
    "True\n",
    ">>> a is copy.deepcopy(a)\n",
    "False\n",
    "```\n",
    "- **copy.deepcopy()**로 복사한 결과 또한 **값은 같지만 ID는 다르기** 때문에, ==로 비교하면 True, is로 비교하면 False가 됨"
   ]
  },
  {
   "cell_type": "code",
   "execution_count": 28,
   "metadata": {},
   "outputs": [
    {
     "data": {
      "text/plain": [
       "True"
      ]
     },
     "execution_count": 28,
     "metadata": {},
     "output_type": "execute_result"
    }
   ],
   "source": [
    "a = [1, 2, 3]\n",
    "a == a"
   ]
  },
  {
   "cell_type": "code",
   "execution_count": 29,
   "metadata": {},
   "outputs": [
    {
     "data": {
      "text/plain": [
       "True"
      ]
     },
     "execution_count": 29,
     "metadata": {},
     "output_type": "execute_result"
    }
   ],
   "source": [
    "a == list(a)"
   ]
  },
  {
   "cell_type": "code",
   "execution_count": 30,
   "metadata": {},
   "outputs": [
    {
     "data": {
      "text/plain": [
       "True"
      ]
     },
     "execution_count": 30,
     "metadata": {},
     "output_type": "execute_result"
    }
   ],
   "source": [
    "a is a"
   ]
  },
  {
   "cell_type": "code",
   "execution_count": 31,
   "metadata": {},
   "outputs": [
    {
     "data": {
      "text/plain": [
       "False"
      ]
     },
     "execution_count": 31,
     "metadata": {},
     "output_type": "execute_result"
    }
   ],
   "source": [
    "a is list(a)"
   ]
  },
  {
   "cell_type": "markdown",
   "metadata": {},
   "source": [
    "## 4.4 속도\n",
    "- 파이썬은 객체 구조로 잘 설계되어 있고 매우 편리하고 강력한 기능을 제공하지만 **속도가 느림**\n",
    "<img src=\"http://jakevdp.github.io/images/cint_vs_pyint.png\" width=\"40%\" height=\"30%\" title=\"파있너 3 표준 타입 계층 구조\"></img>\n",
    "    - 정수형의 덧셈 연산을 하는 경우에도 메모리에서 값을 꺼내 한번 연산하면 끝인 원시 타입에 비해 파이썬의 객체는 **값을 꺼내는 데만 해도 여러 단계의 부가 작업**(var->PyObject_Head에서 타입코드를 찾는 등)이 필요\n",
    "- 파이선의 과학 계산 모듈인 **넘파이**(Numpy)는 **C로 만든 모듈**이며 내부적으로 **리스트를 C의 원시 타입으로 처리**하기 때문에 속도가 빠름<br/><br/>\n",
    "- **!참고!** 자료구조, 자료형, 추상 자료형\n",
    "    - **자료구조**: 데이터에 효율적으로 **접근하고 조작**하기 위한 데이터의 조직, 관리, 저장구조를 의미\n",
    "    - **자료형**: 컴파일러 또는 인터프리터에게 프로그래머가 **데이터를 어떻게 사용하는지**를 알려주는 일종의 데이터 속성\n",
    "        - 자료형은 자료구조에 비해 훨씬 구체적\n",
    "        - 특정 언어에서 자료형이란 **정수, 실수, 문자열** 등 해당 언어에서 지원하는 **원시 자료형가지 포함하는 모든 자료의 유형**을 의미\n",
    "        - **자료구조**는 일반적으로 원시 자료형을 기반으로 하는 **배열, 연결 리스트, 객체** 등을 말하며, **자료형의 관점**에서 보면 여러 원시 자료형을 조합한 **자료구조는 복합 자료형**이 됨\n",
    "    - **추상 자료형**(ADT): 자료형에 대한 수학적 모델을 지칭\n",
    "        - 해당 유형의 자료에 대한 **연산들을 명시**한 것\n",
    "        - 행동만을 정의할 뿐 **실제 구현 방법은 명시하지 않음**\n",
    "        - 객체 지향 프로그래밍의 **추상화**와 비슷"
   ]
  },
  {
   "cell_type": "code",
   "execution_count": null,
   "metadata": {},
   "outputs": [],
   "source": []
  }
 ],
 "metadata": {
  "kernelspec": {
   "display_name": "Python 3",
   "language": "python",
   "name": "python3"
  },
  "language_info": {
   "codemirror_mode": {
    "name": "ipython",
    "version": 3
   },
   "file_extension": ".py",
   "mimetype": "text/x-python",
   "name": "python",
   "nbconvert_exporter": "python",
   "pygments_lexer": "ipython3",
   "version": "3.7.3"
  }
 },
 "nbformat": 4,
 "nbformat_minor": 2
}
