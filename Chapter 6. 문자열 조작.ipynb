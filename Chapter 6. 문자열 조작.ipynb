{
 "cells": [
  {
   "cell_type": "markdown",
   "metadata": {},
   "source": [
    "#### !주요내용!\n",
    "1. 유효한 팰린드롬\n",
    "2. 문자열 뒤집기\n",
    "3. 로그파일 재정렬\n",
    "4. 가장 흔한 단어\n",
    "5. 그룹 애너그램\n",
    "    - 여러 가지 정렬 방법\n",
    "6. 가장 긴 팰린드롬 부분 문자열\n",
    "    - 유니코드와 UTF-8\n",
    "\n",
    "###  문자열 조작\n",
    "- - -\n",
    "- **문자열 조작**: 문자열을 변경하거나 분리하는 등의 여러 과정을 의미\n",
    "- 문자열 조작은 코딩 테스트에서 빈번히 출제되는 주제 중 하나이며 실무에서도 다양하게 활용됨\n",
    "    - 정보 처리 분야: **어떤 키워드로 웹 페이지를 탐색**할 때 문자열 처리 애플리케이션을 이용\n",
    "    - 통신 시스템 분야: **데이터 전송**. 문자 메시지나 이메일을 보낼 때 기본적으로 문자열을 어느 한 곳에서 다른 한 곳으로 보냄\n",
    "    - 프로그래밍 시스템 분야: **컴파일러나 인터프리터** 등은 문자열을 해석하고 처리하여 기계어로 변환하는 역할. 이 때 매우 정교한 문자열 처리 알고리즘이 활용"
   ]
  },
  {
   "cell_type": "markdown",
   "metadata": {},
   "source": [
    "# 1. 유효한 팰린드롬\n",
    "- - -\n",
    "[리트코드 125. Valid Palindrome](https://leetcode.com/problems/valid-palindrome/)\n",
    "\n",
    "**주어진 문자열이 팰린드롬(앞뒤가 똑같은 단어나 문장으로, 뒤집어도 같은 말이 되는 단어 또는 문장)인지 확인하라. 대소문자를 구분하지 않으며, 영문자와 숫자만을 대상으로 한다.** <br/><br/>\n",
    "- 예제 1\n",
    "    - 입력\n",
    "    ```\n",
    "    \"A man, a plan, a canal: Panama\"\n",
    "    ```\n",
    "    - 출력\n",
    "    ```\n",
    "    true\n",
    "    ```\n",
    "- 예제 2\n",
    "    - 입력\n",
    "    ```\n",
    "    \"race a car\"\n",
    "    ```\n",
    "    - 출력\n",
    "    ```\n",
    "    false\n",
    "    ```"
   ]
  },
  {
   "cell_type": "markdown",
   "metadata": {},
   "source": [
    "### 풀이 1. 리스트로 변환\n",
    "- **직접 문자열을 입력받아** 팰린드롬 여부를 판별\n",
    "- 대소문자를 구분하지 않으며 영문자, 숫자만을 대상으로 한다는 제약 조건이 있으므로 전처리 필요\n",
    "```python\n",
    "# 영문자, 숫자를 담을 빈 리스트 생성\n",
    "strs = []\n",
    "# 소문자로 변환한 후 영문자, 숫자인 경우 리스트에 추가\n",
    "for char in s:\n",
    "    if char.isalnum():\n",
    "        strs.append(char.lower())\n",
    "```\n",
    "    - **isalnum()**: 영문자, 숫자 여부를 판별하는 함수\n",
    "    - 대소문자를 구분하지 않으므로 **lower()**로 모두 소문자로 변환 <br/><br/>\n",
    "- 입력값이 A man, a plan, a canal: Panama인 경우 strs 리스트는 아래와 같은 값들이 담기게 됨\n",
    "```\n",
    "['a', 'm', 'a', 'n', 'a', 'p', 'l', 'a', 'n', 'a', 'c', 'a', 'n', 'a', 'l', 'p', 'a', 'n', 'a', 'm', 'a']\n",
    "```\n",
    "- 팰린드롬 여부 판별\n",
    "```python\n",
    "while len(strs) > 1:\n",
    "    if strs.pop(0) != strs.pop():\n",
    "        return False\n",
    "```\n",
    "    - 파이썬의 리스트는 pop() 함수에서 인덱스를 지정할 수 있기 때문에, **0을 지정하면 맨 앞의 값**을 가져올 수 있있음\n",
    "    - **pop(0)와 맨 뒷부분의 pop() 결과를 매칭**해 나가면서 일치하지 않을 경우 False를 리턴\n",
    "    - 모두 통과했다면 True를 리턴 <br/> <br/>\n",
    "    \n",
    "- 실행 시간: 304밀리초"
   ]
  },
  {
   "cell_type": "code",
   "execution_count": 14,
   "metadata": {},
   "outputs": [],
   "source": [
    "def isPalindrome(s: str) -> bool:\n",
    "    # 영문자, 숫자를 담을 빈 리스트 생성\n",
    "    strs = []\n",
    "    \n",
    "    # 소문자로 변환한 후 영문자 숫자인 경우 리스트에 추가\n",
    "    for char in s:\n",
    "        if char.isalnum():\n",
    "            strs.append(char.lower())\n",
    "            \n",
    "    # Palindrome 판별\n",
    "    while len(strs) > 1:\n",
    "        if strs.pop(0) != strs.pop():\n",
    "            return False\n",
    "    \n",
    "    return True"
   ]
  },
  {
   "cell_type": "code",
   "execution_count": 19,
   "metadata": {},
   "outputs": [
    {
     "data": {
      "text/plain": [
       "True"
      ]
     },
     "execution_count": 19,
     "metadata": {},
     "output_type": "execute_result"
    }
   ],
   "source": [
    "isPalindrome(\"A man, a plan, a canal: Panama\")"
   ]
  },
  {
   "cell_type": "code",
   "execution_count": 16,
   "metadata": {},
   "outputs": [
    {
     "data": {
      "text/plain": [
       "False"
      ]
     },
     "execution_count": 16,
     "metadata": {},
     "output_type": "execute_result"
    }
   ],
   "source": [
    "isPalindrome(\"race a car\")"
   ]
  },
  {
   "cell_type": "markdown",
   "metadata": {},
   "source": [
    "### 풀이 2. 데크 자료형을 이용한 최적화\n",
    "- **데크**(Deque, 10장)를 활용하면 속도를 높일 수 있음\n",
    "```python\n",
    "def isPalindrome(s: str) -> bool:\n",
    "    # 자료형 데크로 선언\n",
    "    strs: Deque = collections.deque()   \n",
    "    # 소문자로 변환한 후 영문자 숫자인 경우 리스트에 추가\n",
    "    for char in s:\n",
    "        if char.isalnum():\n",
    "            strs.append(char.lower())            \n",
    "    # Palindrome 판별\n",
    "    while len(strs) > 1:\n",
    "        if strs.popleft() != strs.pop():\n",
    "            return False   \n",
    "    return True\n",
    "```\n",
    "    - 리스트의 pop(0)은 $O(n)$이지만 데크의 popleft()는 $O(1)$이기 때문에, 각각 $n$번씩 반복할 경우 리스트 구현은 $O(n^2)$, 데크 구현은 $O(n)$으로 성능 차이가 큼 <br/><br/>\n",
    "\n",
    "- 실행 시간: 64밀리초 => 리스트 풀이 대비 5배 더 속도를 높일 수 있음"
   ]
  },
  {
   "cell_type": "code",
   "execution_count": 4,
   "metadata": {},
   "outputs": [],
   "source": [
    "import collections\n",
    "from typing import Deque\n",
    "\n",
    "def isPalindrome(s: str) -> bool:\n",
    "    # 자료형 데크로 선언\n",
    "    strs: Deque = collections.deque()   \n",
    "\n",
    "    for char in s:\n",
    "        if char.isalnum():\n",
    "            strs.append(char.lower())            \n",
    "    \n",
    "    # Palindrome 판별\n",
    "    while len(strs) > 1:\n",
    "        if strs.popleft() != strs.pop():\n",
    "            return False   \n",
    "    \n",
    "    return True"
   ]
  },
  {
   "cell_type": "code",
   "execution_count": 5,
   "metadata": {},
   "outputs": [
    {
     "data": {
      "text/plain": [
       "True"
      ]
     },
     "execution_count": 5,
     "metadata": {},
     "output_type": "execute_result"
    }
   ],
   "source": [
    "isPalindrome(\"A man, a plan, a canal: Panama\")"
   ]
  },
  {
   "cell_type": "code",
   "execution_count": 21,
   "metadata": {},
   "outputs": [
    {
     "data": {
      "text/plain": [
       "False"
      ]
     },
     "execution_count": 21,
     "metadata": {},
     "output_type": "execute_result"
    }
   ],
   "source": [
    "isPalindrome(\"race a car\")"
   ]
  },
  {
   "cell_type": "markdown",
   "metadata": {},
   "source": [
    "### 풀이 3. 슬라이싱 사용\n",
    "- **정규식으로 불필요한 문자를 필터링**한 후 문자열을 조작할 수 있는 **파이썬의 슬라이싱**(Slicing)을 사용\n",
    "```python\n",
    "def isPalindrome(s: str) -> bool:\n",
    "    # 모두 소문자로 변경\n",
    "    s = s.lower()\n",
    "    # 정규식으로 불필요한 문자 필터링\n",
    "    s = re.sub('[^a-z0-9]', '', s)\n",
    "    return s == s[::-1] # 슬라이싱\n",
    "```\n",
    "    - 문자열 전체를 한 번에 영숫자만 걸러내도록 정규식으로 처리\n",
    "        - re.sub('[^a-z0-9]', '', s): 영문자, 숫자가 아닌 경우를 공백으로 치환\n",
    "    - 파이썬은 문자열을 배열이나 리스트처럼 자유롭게 슬라이싱할 수 있는 기능을 제공하며, **[::-1]을 이용하면 문자열을 뒤집을 수 있음** <br/><br/>\n",
    "\n",
    "- 실행 시간: 36밀리초 => 데크 풀이보다 2배 정도 속도를 높일 수 있음"
   ]
  },
  {
   "cell_type": "code",
   "execution_count": 23,
   "metadata": {},
   "outputs": [],
   "source": [
    "import re\n",
    "\n",
    "def isPalindrome(s: str) -> bool:\n",
    "    # 모두 소문자로 변경\n",
    "    s = s.lower()\n",
    "    \n",
    "    # 정규식으로 불필요한 문자 필터링\n",
    "    s = re.sub('[^a-z0-9]', '', s)\n",
    "    \n",
    "    return s == s[::-1] # 슬라이싱"
   ]
  },
  {
   "cell_type": "code",
   "execution_count": 24,
   "metadata": {},
   "outputs": [
    {
     "data": {
      "text/plain": [
       "True"
      ]
     },
     "execution_count": 24,
     "metadata": {},
     "output_type": "execute_result"
    }
   ],
   "source": [
    "isPalindrome(\"A man, a plan, a canal: Panama\")"
   ]
  },
  {
   "cell_type": "code",
   "execution_count": 25,
   "metadata": {},
   "outputs": [
    {
     "data": {
      "text/plain": [
       "False"
      ]
     },
     "execution_count": 25,
     "metadata": {},
     "output_type": "execute_result"
    }
   ],
   "source": [
    "isPalindrome(\"race a car\")"
   ]
  },
  {
   "cell_type": "markdown",
   "metadata": {},
   "source": [
    "### 풀이 4. C 구현\n",
    "- 고성능을 낼 수 있는 다른 언어로 구현하면 얼마나 속도를 높일 수 있는지 벤치마킹하기 위해 C로 구현\n",
    "- 문자열을 저장하는 **char 포인터에 대한 직접 조작**으로 가능한 한 빠르게 동작하도록 작성\n",
    "```C\n",
    "bool isPalindrome(char *s) {\n",
    "    int bias_left = 0;\n",
    "    int bias_right = 1;\n",
    "    int str_len = strlen(s);\n",
    "    for (int i = 0; i < str_len; i++) {\n",
    "        // 스킵 포인터 처리\n",
    "        while (!isalnum(s[i + bias_left])) {\n",
    "            bias_left++;\n",
    "            if (i + bias_left == str_len)\n",
    "                return true;\n",
    "        }\n",
    "        while (!isalnum(s[str_len - i - bias_right])) {\n",
    "            bias_right++;\n",
    "        }\n",
    "        if (i + bias_left >= str_len - i - bias_right)\n",
    "            break;\n",
    "        // 팰린드롬 비교\n",
    "        if (tolower(s[i + bias_left]) != tolower(s[str_len - i - bias_right]))\n",
    "            return false;\n",
    "    }\n",
    "    return true;\n",
    "}\n",
    "```\n",
    "    - 필터링해야 하는 문자는 bias_left, bias_right 변수를 이용해 한 칸씩 건너뛰는 형태로 처리\n",
    "    - 위치 포인터를 직접 조작하기 때문에 매우 빠르게 실행 <br/><br/>\n",
    "    \n",
    "- 실행 시간: 4밀리초"
   ]
  },
  {
   "cell_type": "markdown",
   "metadata": {},
   "source": [
    "#### * 실행 시간 비교 *\n",
    "풀이|방식|실행시간\n",
    ":----:|:----|:--------\n",
    "1|리스트로 변환|304밀리초\n",
    "2|데크 자료형을 이용한 최적화|64밀리초\n",
    "3|슬라이싱 사용|36밀리초\n",
    "4|C 구현|4밀리초"
   ]
  },
  {
   "cell_type": "markdown",
   "metadata": {},
   "source": [
    "#### <span style=\"color:blue\">!문법!</span> 문자열 슬라이싱\n",
    "- 위치를 지정하면 **해당 위치의 배열 포인터**를 얻게 되며 이를 통해 연결된 객체를 찾아 실제 값을 찾음\n",
    "- 위 과정이 매우 빠르게 진행되므로 문자열을 조작할 때는 **슬라이싱을 우선으로** 사용하는 것이 속도 개선에 유리\n",
    "- 슬라이싱을 기준으로 한 파이썬 문자열 처리 실행 시간\n",
    "\n",
    "알고리즘|실행 시간|슬라이싱을 1로 했을 때의 비율\n",
    ":--------|:---------|:-----\n",
    "슬라이싱|0.449마이크로초\t|1\n",
    "리스트 reverse()|2.46마이크로초\t|5\n",
    "reversed() + join()|2.49마이크로초\t|6\n",
    "for 반복|5.5마이크로초\t|12\n",
    "while 반복|9.4마이크로초\t|21\n",
    "재귀|24.3마이크로초\t|54\n",
    "\n",
    "- **'abcdefgh' 문자열 슬라이싱**\n",
    "<img src=\"https://python.bakyeono.net/img/img-5-2.png\" width=\"60%\" height=\"50%\" title=\"문자열 슬라이싱\"></img>\n",
    "\n",
    "\n",
    "슬라이싱|결과|<center>설명</center>\n",
    ":--------:|:----:|:----\n",
    "**S[1:4]**|bcd| 인덱스 1에서(인덱스는 0부터 시작) 4 이전까지(4는 포함 X) 표현\n",
    "**S[1:-2]**|bcdef| 인덱스 1에서 -2 이전까지(-2는 포함 X) 표현. 그림에서와 같이 **뒤에서부터는 음수**로 접근 가능\n",
    "**S[1:]**|bcdefgh| 문자열의 시작 또는 끝은 생략 가능\n",
    "**S[:]**|abcdefgh| 둘 다 생략시 **사본 리턴**. 파이썬에서는 a=b와 같은 형태로 할당하면 변수의 값이 할당되는 것이 아닌 a 변수가 b 변수를 참조하는 형태가 됨. 참조가 아닌 값 복사를 위해서는 [:] 사용\n",
    "**S[1:100]**|bcdefgh| 인덱스가 지나치게 클 경우 문자열의 최대 길이 만큼만 표현\n",
    "**S[-1]**|h|마지막 문자(뒤에서 첫 번째)\n",
    "**S[-4]**|e|뒤에서 4번째\n",
    "**S[:-3]**|abcde|뒤에서 3개 글자 앞까지\n",
    "**S[-3:]**|fgh|뒤에서 3번째 문자에서 마지막까지\n",
    "**S[::1]**|abcdefgh|1은 기본값으로 동일\n",
    "**S[::-1]**|hgfedcba|문자를 뒤집음\n",
    "**S[::2]**|aceg|2칸씩 앞으로 이동"
   ]
  },
  {
   "cell_type": "markdown",
   "metadata": {},
   "source": [
    "# 2. 문자열 뒤집기\n",
    "- - -\n",
    "[리트코드 334. Reverse String](https://leetcode.com/problems/reverse-string/)\n",
    "\n",
    "**문자열을 뒤집는 함수를 작성하라. 입력값은 문자 배열이며, 리턴 없이 리스트 내부를 직접 조작하라**\n",
    "- 예제 1\n",
    "    - 입력\n",
    "    ```python\n",
    "    [\"h\",\"e\",\"l\",\"l\",\"o\"]\n",
    "    ```\n",
    "    - 출력\n",
    "    ```python\n",
    "    [\"o\",\"l\",\"l\",\"e\",\"h\"]\n",
    "    ```\n",
    "- 예제 2\n",
    "    - 입력\n",
    "    ```python\n",
    "    [\"H\",\"a\",\"n\",\"n\",\"a\",\"h\"]\n",
    "    ```\n",
    "    - 출력\n",
    "    ```python\n",
    "    [\"h\",\"a\",\"n\",\"n\",\"a\",\"H\"]\n",
    "    ```"
   ]
  },
  {
   "cell_type": "markdown",
   "metadata": {},
   "source": [
    "### 풀이 1. 투 포인터를 이용한 스왑\n",
    "- 투 포인터는 7장에서 다룰 것\n",
    "- **2개의 포인터**를 이용해 범위를 조정해가며 풀이. 여기서는 점점 **범위를 좁혀가며** 스왑하는 형태로 풀이\n",
    "```python\n",
    "def reverseString(s: List(str)) -> None:\n",
    "    left, right = 0, len(str) -1\n",
    "    while left < right:\n",
    "        str[left], str[right] = str[right], str[left]\n",
    "        left += 1\n",
    "        right -= 1\n",
    "```\n",
    "    - '리턴 없이 리스트 내부를 직접 조작하라'는 제약 사항이 있으므로 **s 내부를 스왑하는 형태**로 풀이"
   ]
  },
  {
   "cell_type": "code",
   "execution_count": 36,
   "metadata": {},
   "outputs": [],
   "source": [
    "from typing import List\n",
    "\n",
    "# 문제에 따르면 return이 없어야 하지만 결과 확인을 위해 return 타입을 List로 지정하고 s를 리턴하도록 작성\n",
    "def reverseString(s: List[str]) -> List:\n",
    "    left, right = 0, len(s) -1\n",
    "    while left < right:\n",
    "        s[left], s[right] = s[right], s[left]\n",
    "        left += 1\n",
    "        right -= 1\n",
    "    \n",
    "    return s"
   ]
  },
  {
   "cell_type": "code",
   "execution_count": 35,
   "metadata": {},
   "outputs": [
    {
     "data": {
      "text/plain": [
       "['o', 'l', 'l', 'e', 'h']"
      ]
     },
     "execution_count": 35,
     "metadata": {},
     "output_type": "execute_result"
    }
   ],
   "source": [
    "reverseString([\"h\",\"e\",\"l\",\"l\",\"o\"])"
   ]
  },
  {
   "cell_type": "code",
   "execution_count": 37,
   "metadata": {},
   "outputs": [
    {
     "data": {
      "text/plain": [
       "['h', 'a', 'n', 'n', 'a', 'H']"
      ]
     },
     "execution_count": 37,
     "metadata": {},
     "output_type": "execute_result"
    }
   ],
   "source": [
    "reverseString([\"H\",\"a\",\"n\",\"n\",\"a\",\"h\"])"
   ]
  },
  {
   "cell_type": "markdown",
   "metadata": {},
   "source": [
    "### 풀이 2. 파이썬다운 방식\n",
    "- 파이썬다운 방식: 파이썬의 기본 기능을 이용하면 단 한 줄로 쉽게 풀이 가능\n",
    "- 입력값이 리스트로 제공되므로 **reverse()** 함수를 사용하면 뒤집을 수 있음\n",
    "```python\n",
    "def reverseString(s: List[str]) -> None:\n",
    "    s.reverse()\n",
    "```\n",
    "    - reverse()는 **리스트**에만 제공\n",
    "    - 입력값이 문자열일 경우 **문자열 슬라이싱**을 활용\n",
    "    - 슬라이싱은 리스트에서도 사용 가능\n",
    "    ```python\n",
    "    s = s[::-1]\n",
    "    ```\n",
    "        - 이 풀이는 리트코드에서는 오류가 발생. 원래는 정상적으로 작동해야 하지만 이 문제는 공간 복잡도를 $O(1)$로 제한하다 보니 변수 할당을 처리하는데 다소 제약이 있음\n",
    "        - 이 경우 **s[:] = s[::-1]**로 처리하면 잘 작동하게 됨"
   ]
  },
  {
   "cell_type": "code",
   "execution_count": 38,
   "metadata": {},
   "outputs": [],
   "source": [
    "# 문제에 따르면 return이 없어야 하지만 결과 확인을 위해 return 값을 List로 지정하고 s를 리턴하도록 작성\n",
    "def reverseString(s: List[str]) -> List:\n",
    "    s.reverse()\n",
    "    return s"
   ]
  },
  {
   "cell_type": "code",
   "execution_count": 39,
   "metadata": {},
   "outputs": [
    {
     "data": {
      "text/plain": [
       "['o', 'l', 'l', 'e', 'h']"
      ]
     },
     "execution_count": 39,
     "metadata": {},
     "output_type": "execute_result"
    }
   ],
   "source": [
    "reverseString([\"h\",\"e\",\"l\",\"l\",\"o\"])"
   ]
  },
  {
   "cell_type": "code",
   "execution_count": 40,
   "metadata": {},
   "outputs": [
    {
     "data": {
      "text/plain": [
       "['h', 'a', 'n', 'n', 'a', 'H']"
      ]
     },
     "execution_count": 40,
     "metadata": {},
     "output_type": "execute_result"
    }
   ],
   "source": [
    "reverseString([\"H\",\"a\",\"n\",\"n\",\"a\",\"h\"])"
   ]
  },
  {
   "cell_type": "markdown",
   "metadata": {},
   "source": [
    "#### * 실행 시간 비교 *\n",
    "풀이|방식|실행시간\n",
    ":----:|:----|:--------\n",
    "1|투 포인터를 이용한 스왑|216밀리초\n",
    "2|파이썬다운 방식|208밀리초"
   ]
  },
  {
   "cell_type": "markdown",
   "metadata": {},
   "source": [
    "# 3. 로그파일 재정렬\n",
    "- - -\n",
    "[리트코드 937. Reorder LogFiles](https://leetcode.com/problems/reorder-data-in-log-files/)\n",
    "\n",
    "**로그를 재정렬하라. 기준은 다음과 같다**\n",
    "1. 로그의 가장 앞 부분은 식별자다.\n",
    "2. 문자로 구성된 로그가 숫자 로그보다 앞에 온다.\n",
    "3. 식별자는 순서에 영향을 끼치지 않지만, 문자가 동일한 경우 식별자 순으로 한다.\n",
    "4. 숫자 로그는 입력 순서대로 한다.\n",
    "  \n",
    "  \n",
    "- 입력\n",
    "    ```python\n",
    "    logs = [\"dig1 8 1 5 1\",\"let1 art can\",\"dig2 3 6\",\"let2 own kit dig\",\"let3 art zero\"]\n",
    "    ```\n",
    "- 출력\n",
    "    ```python\n",
    "    [\"let1 art can\",\"let3 art zero\",\"let2 own kit dig\",\"dig1 8 1 5 1\",\"dig2 3 6\"]\n",
    "    ```"
   ]
  },
  {
   "cell_type": "markdown",
   "metadata": {},
   "source": [
    "### 풀이 1. 람다와 + 연산자 이용\n",
    "- 숫자 로그보다 문자로 구성된 로그가 먼저 오며, 숫자 로그는 입력 순서대로 들어옴\n",
    "- **문자와 숫자를 먼저 구분**하고, 숫자는 나중에 이어 붙이면 됨\n",
    "- 로그 자체는 **숫자 로그도 모두 문자열로 지정**되어 있으므로 **isdigit()**을 이용해서 숫자 여부인지 판별해 구분해주어야 함.\n",
    "```python\n",
    "if log.split()[1].isdigit():\n",
    "    digits.append(log)\n",
    "else:\n",
    "    letters.append(log)\n",
    "```\n",
    "    - log.split()[1]: 로그를 띄어쓰기를 기준으로 split했을 때 두 번째(인덱스 1)로 구분되는 값\n",
    "    - 숫자로 변환 가능한 로그는 digits에, 문자 로그는 letters에 추가 <br/><br/>\n",
    "- 문자 로그가 letters에 모두 모였으므로 **sort()** 함수를 이용해 정렬\n",
    "```python\n",
    "letters.sort(key = lambda x : (x.split()[1:], x.split()[0]))\n",
    "```\n",
    "    - 식별자를 제외한 문자열 [1:]을 키로 하여 정렬하고 동일한 경우 후순위로 식별자 [0]를 지정해 정렬 <br/><br/>\n",
    "- 문자 로그와 숫자 로그를 이어 붙여서 리턴\n",
    "```\n",
    "return letters + digits\n",
    "```\n"
   ]
  },
  {
   "cell_type": "code",
   "execution_count": 41,
   "metadata": {},
   "outputs": [],
   "source": [
    "def reorderLogFiles(logs: List[str]) -> List[str]:\n",
    "    # 문자 로그와 숫자 로그를 담을 리스트 생성\n",
    "    letters, digits = [], []\n",
    "    \n",
    "    # 문자 로그와 숫자 로그 구분\n",
    "    for log in logs:\n",
    "        if log.split()[1].isdigit():\n",
    "            digits.append(log)\n",
    "        else:\n",
    "            letters.append(log)\n",
    "            \n",
    "    # 2개의 키를 람다 표현식으로 정렬\n",
    "    letters.sort(key = lambda x: (x.split()[1:], x.split()[0]))\n",
    "    \n",
    "    # 문자 로그와 숫자 로그를 이어 붙여 리턴\n",
    "    return letters + digits"
   ]
  },
  {
   "cell_type": "code",
   "execution_count": 42,
   "metadata": {},
   "outputs": [
    {
     "data": {
      "text/plain": [
       "['let1 art can',\n",
       " 'let3 art zero',\n",
       " 'let2 own kit dig',\n",
       " 'dig1 8 1 5 1',\n",
       " 'dig2 3 6']"
      ]
     },
     "execution_count": 42,
     "metadata": {},
     "output_type": "execute_result"
    }
   ],
   "source": [
    "logs = [\"dig1 8 1 5 1\",\"let1 art can\",\"dig2 3 6\",\"let2 own kit dig\",\"let3 art zero\"]\n",
    "reorderLogFiles(logs)"
   ]
  },
  {
   "cell_type": "markdown",
   "metadata": {},
   "source": [
    "#### <span style = \"color:blue\">!문법!</span> **람다 표현식**\n",
    "- 람다 표현식: **식별자 없이 실행 가능한 함수**를 의미\n",
    "- 함수 선언 없이도 하나의 식으로 함수를 단순하게 표현 가능\n",
    "- 문제 풀이에서 2개의 키를 람다 표현식으로 정렬하는 문법을 살펴봄\n",
    "```python\n",
    "letters.sort(key = lambda x: (x.split()[1:], x.split()[0]))\n",
    "```\n",
    "- 만약 s가 ['2 A', '1 B', '4 C', '1 A']라면 sorted()로 정렬한 결과는 아래와 같음\n",
    "```python\n",
    ">>> s = ['2 A', '1 B', '4 C', '1 A']\n",
    ">>> sorted(s)\n",
    "['1 A', '1 B', '2 A', '4 C']\n",
    "```\n",
    "- 하지만 원하는 결과는 각 요소의 번호 순 정렬이 아닌 **그 뒤의 문자 순 정렬이고, 문자가 동일한 경우에만 그 앞 번호순으로 정렬**되는 형태를 희밍\n",
    "    - 리스트의 각 요소를 풀어서 별도로 처리해줘야함\n",
    "    - 람다 함수를 사용하지 않고 직접 함수를 선언한다면\n",
    "    ```python\n",
    "    >>> def func(x):\n",
    "            return x.split()[1], x.split()[0]\n",
    "    >>> s.sort(key = func)\n",
    "    >>> s\n",
    "    ['1 A', '2 A', '1 B', '4 C']\n",
    "    ```\n",
    "    - 람다 표현식을 사용한 경우\n",
    "    ```python\n",
    "    >>> s.sort(key = lambda x: (x.split()[1], x.split()[0]))\n",
    "    >>> s\n",
    "    ['1 A', '2 A', '1 B', '4 C']\n",
    "    ```\n",
    "- 람다 표현식은 코드가 길어지고 map, filter와 섞어서 사용할 경우 가독성이 떨어질 수 있으므로 주의가 필요"
   ]
  },
  {
   "cell_type": "code",
   "execution_count": 44,
   "metadata": {},
   "outputs": [
    {
     "data": {
      "text/plain": [
       "['1 A', '2 A', '1 B', '4 C']"
      ]
     },
     "execution_count": 44,
     "metadata": {},
     "output_type": "execute_result"
    }
   ],
   "source": [
    "# 직접 함수 선언\n",
    "s = ['2 A', '1 B', '4 C', '1 A']\n",
    "\n",
    "def func(x):\n",
    "    return x.split()[1], x.split()[0]\n",
    "\n",
    "s.sort(key = func)\n",
    "s"
   ]
  },
  {
   "cell_type": "code",
   "execution_count": 45,
   "metadata": {},
   "outputs": [
    {
     "data": {
      "text/plain": [
       "['1 A', '2 A', '1 B', '4 C']"
      ]
     },
     "execution_count": 45,
     "metadata": {},
     "output_type": "execute_result"
    }
   ],
   "source": [
    "# 람다 표현식\n",
    "s = ['2 A', '1 B', '4 C', '1 A']\n",
    "\n",
    "s.sort(key = lambda x: (x.split()[1], x.split()[0]))\n",
    "s"
   ]
  },
  {
   "cell_type": "markdown",
   "metadata": {},
   "source": [
    "# 4. 가장 흔한 단어\n",
    "- - -\n",
    "[리트코드 819. Most Common Word](https://leetcode.com/problems/most-common-word/)\n",
    "\n",
    "**금지된 단어를 제외한 가장 흔하게 등장하는 단어를 출력하라. 대소문자 구분을 하지 않으며, 구두점(마침표, 쉼표 등) 또한 무시한다.**\n",
    "- 입력\n",
    "```python\n",
    "paragraph = \"Bob hit a ball, the hit BALL flew far after it was hit.\"\n",
    "banned = [\"hit\"]\n",
    "```\n",
    "- 출력\n",
    "```python\n",
    "\"ball\"\n",
    "```"
   ]
  },
  {
   "cell_type": "markdown",
   "metadata": {},
   "source": [
    "### 풀이 1. 리스트 컴프리헨션, Counter 객체 사용\n",
    "- 입력값에 대소문자와 구두저이 존재하므로 **데이터 클렌징**(Data Cleansing)이라 부르는 **입력값에 대한 전처리**(Preprocessing) 작업이 필요 <br/> <br/>\n",
    "- 편리하게 처리하기 위해 **정규식**을 섞어 사용\n",
    "```python\n",
    "words = [word for word in re.sub(r'[^\\w]', ' ', paragraph).lower().split() if word not in banned]\n",
    "```\n",
    "    - 정규식에서 \\w는 단어 문자를, ^는 not을 의미\n",
    "    - re.sub(r'[^\\w]', '', paragraph): 단어 문자가 아닌 모든 문자를 공백으로 치환\n",
    "    - 리스트 컴프리헨션 조건절에는 banned에 포함되지 않은 단어만을 대상으로 함\n",
    "    - **words에는 소문자, 구두점을 제외하고 banned를 제외한 단어 목록이 저장**됨 <br/> <br/>\n",
    "- 각 단어의 개수 세기\n",
    "    - 방법 1. **max()** 사용: 딕셔너리 변수인 counts에서 값이 가장 큰 키를 가져옴\n",
    "    ```python\n",
    "    counts = collections.defaultdict(int)\n",
    "    for word in words:\n",
    "        counts[word] += 1\n",
    "    return max(counts, key = counts.get)\n",
    "    ```\n",
    "        - 개수를 담아두는 변수는 딕셔너리를 사용. **defaultdict()**를 사용해 int 기본 값을 자동으로 부여해 키 존재 유무을 확인할 필요 없이 **즉시 연산을 할 수 있게** 함\n",
    "        - max()는 수학에서 $argmax$와 동일. 파이썬의 기본 타입은 $argmax$를 지원하지 않으므로 **max() 함수에 key를 지정**해 $argmax$를 간접적으로 추출 <br/> <br/>\n",
    "    \n",
    "    - 방법 2. **Counter** 모듈 사용: 개수를 처리하는 부분은 Counter 모듈을 사용하면 깔끔하게 처리 가능\n",
    "    ```python\n",
    "    counts = collections.Counter(words)\n",
    "    return counts.most_common(1)[0][0]\n",
    "    ```\n",
    "        - words에서 가장 흔하게 등장하는 단어의 첫 번째 값을 **most_common(1)**로 추출\n",
    "        - 문제의 입력값에서는 **[('ball', 2)]**가 되며, 이 값의 [0][0]을 추출해 최종적으로 첫 번째 인덱스의 키를 추출"
   ]
  },
  {
   "cell_type": "code",
   "execution_count": 53,
   "metadata": {},
   "outputs": [],
   "source": [
    "# 방법 1. max() 사용\n",
    "def mostCommonWord(paragraph: str, banned: List[str]) -> str:\n",
    "    words = [word for word in re.sub(r'[^\\w]', ' ', paragraph).lower().split() if word not in banned]\n",
    "    \n",
    "    counts = collections.defaultdict(int)\n",
    "    \n",
    "    for word in words:\n",
    "        counts[word] += 1\n",
    "        \n",
    "    return max(counts, key=counts.get)"
   ]
  },
  {
   "cell_type": "code",
   "execution_count": 54,
   "metadata": {},
   "outputs": [
    {
     "data": {
      "text/plain": [
       "'ball'"
      ]
     },
     "execution_count": 54,
     "metadata": {},
     "output_type": "execute_result"
    }
   ],
   "source": [
    "mostCommonWord(\"Bob hit a ball, the hit BALL flew far after it was hit.\", [\"hit\"])"
   ]
  },
  {
   "cell_type": "code",
   "execution_count": 67,
   "metadata": {},
   "outputs": [],
   "source": [
    "# 방법 2. Counter 객체 사용\n",
    "def mostCommonWord(paragraph: str, banned: List[str]) -> str:\n",
    "    words = [word for word in re.sub(r'[^\\w]', ' ', paragraph).lower().split() if word not in banned]\n",
    "    \n",
    "    counts = collections.Counter(words)\n",
    "    \n",
    "    # 가장 흔하게 등장하는 단어 출력\n",
    "    print(counts.most_common(1))\n",
    "    \n",
    "    # 가장 흔하게 등장하는 단어의 첫 번째 인덱스 리턴\n",
    "    return counts.most_common(1)[0][0]"
   ]
  },
  {
   "cell_type": "code",
   "execution_count": 68,
   "metadata": {},
   "outputs": [
    {
     "name": "stdout",
     "output_type": "stream",
     "text": [
      "[('ball', 2)]\n"
     ]
    },
    {
     "data": {
      "text/plain": [
       "'ball'"
      ]
     },
     "execution_count": 68,
     "metadata": {},
     "output_type": "execute_result"
    }
   ],
   "source": [
    "mostCommonWord(\"Bob hit a ball, the hit BALL flew far after it was hit.\", [\"hit\"])"
   ]
  },
  {
   "cell_type": "markdown",
   "metadata": {},
   "source": [
    "# 5. 그룹 애너그램\n",
    "- - -\n",
    "[리트코드 49. Group Anagrams](https://leetcode.com/problems/group-anagrams/)\n",
    "\n",
    "**문자열 배열을 받아 애너그램 단위로 그룹핑하라**\n",
    "- 애너그램: 일종의 언어유희로 문자를 재배열하여 다른 뜻을 가진 단어로 바꾸는 것\n",
    "- 입력\n",
    "```python\n",
    "[\"eat\", \"tea\", \"tan\", \"ate\", \"nat\", \"bat\"]\n",
    "```\n",
    "- 출력\n",
    "```python\n",
    "[\n",
    "  [\"ate\",\"eat\",\"tea\"],\n",
    "  [\"nat\",\"tan\"],\n",
    "  [\"bat\"]\n",
    "]\n",
    "```"
   ]
  },
  {
   "cell_type": "markdown",
   "metadata": {},
   "source": [
    "### 풀이 1. 정렬하여 딕셔너리에 추가\n",
    "- 애너그램을 판단하는 가장 간단한 방법은 **정렬**하여 비교하는 것. 애너그램 관계인 단어들을 **정렬하면 서로 같은 값**을 가지게 됨\n",
    "```python\n",
    "anagrams[''.join(sorted(word))].append(word)\n",
    "```\n",
    "    - **sorted()**는 문자열을 정렬하여 결과를 리스트 형태로 반환. 반환한 결과를 **키로 사용**하기 위해 **join()**을 이용해 리스트에서 **문자열로 변환**해줌\n",
    "    - 딕셔너리는 join()으로 문자열로 변환해준 값(정렬한 값)을 키로 하는 딕셔너리로 구성\n",
    "    - 애너그램끼리는 같은 키를 갖게 되고 **키가 같은 경우 append()을 이용해 키의 값으로 추가** <br/><br/>\n",
    "\n",
    "- 존재하지 않는 키를 삽입하려 할 경우 KeyError가 발생하므로, 에러가 나지 않도록 항상 디폴트를 생성해주는 **defaultdict()**로 선언\n",
    "```python\n",
    "anagrams = collections.defaultdict(list)\n",
    "```"
   ]
  },
  {
   "cell_type": "code",
   "execution_count": 69,
   "metadata": {},
   "outputs": [],
   "source": [
    "def groupAnagrams(strs: List[str]) -> List[List[str]]:\n",
    "    anagrams = collections.defaultdict(list)\n",
    "    \n",
    "    for word in strs:\n",
    "        # 정렬하여 딕셔너리에 추가\n",
    "        anagrams[''.join(sorted(word))].append(word)\n",
    "    \n",
    "    return anagrams.values()"
   ]
  },
  {
   "cell_type": "code",
   "execution_count": 70,
   "metadata": {},
   "outputs": [
    {
     "data": {
      "text/plain": [
       "dict_values([['eat', 'tea', 'ate'], ['tan', 'nat'], ['bat']])"
      ]
     },
     "execution_count": 70,
     "metadata": {},
     "output_type": "execute_result"
    }
   ],
   "source": [
    "groupAnagrams([\"eat\", \"tea\", \"tan\", \"ate\", \"nat\", \"bat\"])"
   ]
  },
  {
   "cell_type": "markdown",
   "metadata": {},
   "source": [
    "## 5.1 여러 가지 정렬 방법\n",
    "- 파이썬은 정렬 함수를 기본으로 제공\n",
    "- 파이썬 정렬 함수의 기능과 팀소트(Timsort)에 관해 다룰 것 (정렬에 대한 자세한 내용은 17장에서 다룰 것)\n",
    "\n",
    "\n",
    "1. **sorted() 함수**를 이용한 파이썬 리스트 정렬\n",
    "```python\n",
    ">>> a = [2, 5, 1, 9, 7]\n",
    ">>> sorted(a)\n",
    "[1, 2, 5, 7, 9]\n",
    "```\n",
    "    - 숫자뿐만 아니라 문자도 정렬 가능: 알파벳 순서대로 정렬한 리스트를 결과로 리턴\n",
    "    ```python\n",
    "    >>> b = 'zbdaf'\n",
    "    >>> sorted(b)\n",
    "    ['a', 'b', 'd', 'f', 'z']\n",
    "    ```\n",
    "    - 문자열로 다시 결합하려면 **join()**을 이용\n",
    "    ```python\n",
    "    >>> b = 'zbdaf'\n",
    "    >>> \"\".join(sorted(b))\n",
    "    'abdfz'\n",
    "    ```\n",
    "    - **key=** 옵션을 지정해 정렬을 위한 키 또는 함수를 별도로 지정 가능\n",
    "        - 정렬을 위한 함수로 길이를 구하는 len을 지정한 경우: 길이 순서대로 정렬\n",
    "        ```python\n",
    "        c = ['ccc', 'aaaa', 'd', 'bb']\n",
    "        sorted(c, key=len)\n",
    "        ['d', 'bb', 'ccc', 'aaaa']\n",
    "        ```\n",
    "        - 함수를 이용해 첫 문자열(s[0])과 마지막 문자열(s[-1]) 순으로 정렬하도록 지정\n",
    "        ```python\n",
    "        a = ['cde', 'cfc', 'abc']\n",
    "        def fn(s):\n",
    "            return s[0], s[-1]\n",
    "        print(sorted(a, key=fn))\n",
    "        ['abc', 'cfc', 'cde']\n",
    "        ```\n",
    "            - key 옵션 없이 sorted()로 처리했다면 c가 동일하고, 그다음 문자열인 d와 f를 비교해 ['abc', 'cde', 'cfc']로 출력했을 것\n",
    "            - 하지만 두 번째 키로 마지막 문자열을 보게 했기 깨문에, e와 c를 비교해 ['abc', 'cfc', 'cde']를 출력\n",
    "            - 위 코드를 람다를 이용해 표현하면 한 줄로 처리 가능\n",
    "            ```python\n",
    "            >>> a = ['cde', 'cfc', 'abc']\n",
    "            >>> sorted(a, key= lambda s: (s[0], s[-1]))\n",
    "            ['abc', 'cfc', 'cde']\n",
    "            ```\n",
    "2. **리스트** 자료형에서 제공하는 **sort()** 메소드\n",
    "    - 리스트 자체를 제자리 정렬(In-place Sort)\n",
    "    - 제자리 정렬 알고리즘은 입력을 출력으로 덮어 쓰기 때문에 별도의 추가 공간이 필요하지 않으며, **리턴값이 없음**\n",
    "```python\n",
    "alist.srt()            # sort()는 리스트 자체를 제자리 정렬\n",
    "alist = blist.sort()  # 잘못된 구문\n",
    "                       # sort() 함수는 None을 리턴하므로 주의 필요\n",
    "```\n",
    "        - 정렬 결과를 리스트로 리턴하는 sorted()와 다름"
   ]
  },
  {
   "cell_type": "code",
   "execution_count": 1,
   "metadata": {},
   "outputs": [
    {
     "data": {
      "text/plain": [
       "[1, 2, 5, 7, 9]"
      ]
     },
     "execution_count": 1,
     "metadata": {},
     "output_type": "execute_result"
    }
   ],
   "source": [
    "# sorted() 함수\n",
    "a = [2, 5, 1, 9, 7]\n",
    "sorted(a)"
   ]
  },
  {
   "cell_type": "code",
   "execution_count": 2,
   "metadata": {},
   "outputs": [
    {
     "data": {
      "text/plain": [
       "['a', 'b', 'd', 'f', 'z']"
      ]
     },
     "execution_count": 2,
     "metadata": {},
     "output_type": "execute_result"
    }
   ],
   "source": [
    "b = 'zbdaf'\n",
    "sorted(b)"
   ]
  },
  {
   "cell_type": "code",
   "execution_count": 4,
   "metadata": {},
   "outputs": [
    {
     "data": {
      "text/plain": [
       "'abdfz'"
      ]
     },
     "execution_count": 4,
     "metadata": {},
     "output_type": "execute_result"
    }
   ],
   "source": [
    "# join()\n",
    "b = 'zbdaf'\n",
    "\"\".join(sorted(b))"
   ]
  },
  {
   "cell_type": "code",
   "execution_count": 5,
   "metadata": {},
   "outputs": [
    {
     "data": {
      "text/plain": [
       "['d', 'bb', 'ccc', 'aaaa']"
      ]
     },
     "execution_count": 5,
     "metadata": {},
     "output_type": "execute_result"
    }
   ],
   "source": [
    "# key 옵션 활용 1\n",
    "c = ['ccc', 'aaaa', 'd', 'bb']\n",
    "sorted(c, key=len)"
   ]
  },
  {
   "cell_type": "code",
   "execution_count": 6,
   "metadata": {},
   "outputs": [
    {
     "name": "stdout",
     "output_type": "stream",
     "text": [
      "['abc', 'cfc', 'cde']\n"
     ]
    }
   ],
   "source": [
    "# key 옵션 활용 2\n",
    "a = ['cde', 'cfc', 'abc']\n",
    "\n",
    "def fn(s):\n",
    "    return s[0], s[-1]\n",
    "\n",
    "print(sorted(a, key=fn))"
   ]
  },
  {
   "cell_type": "code",
   "execution_count": 7,
   "metadata": {},
   "outputs": [
    {
     "data": {
      "text/plain": [
       "['abc', 'cfc', 'cde']"
      ]
     },
     "execution_count": 7,
     "metadata": {},
     "output_type": "execute_result"
    }
   ],
   "source": [
    "# key 옵션 활용 2에서 람다 활용\n",
    "a = ['cde', 'cfc', 'abc']\n",
    "sorted(a, key= lambda s: (s[0], s[-1]))"
   ]
  },
  {
   "cell_type": "markdown",
   "metadata": {},
   "source": [
    "3. **팀소트(Timsort)**\n",
    "    - 정렬 알고리즘 중 가장 인기 있는 알고리즘은 **병합 정렬**(Merge Sort)\n",
    "        - 대부분은 퀵 정렬이 더 빠르지만 데이터에 따라 편차가 크지만, 병합 정렬은 일정하게 $O(n log n)$의 안정적인 성능을 보이며 **안정 정렬**(Stable Sort)라는 점에서 많이 선호 <br/><br/>\n",
    "    - 파이썬의 정렬은 **팀소트**(Timsort)를 사용\n",
    "    - 팀소트는 '**실제 데이터는 대부분 이미 정렬되어 있을 것이다**'라고 가정하고 실제 데이터에서 고성능을 낼 수 있도록 설계한 알고리즘\n",
    "    - 개별적인 단일 알고리즘이 아닌 **삽입 정렬과 병합 정렬을 적절히 조합**해 사용하는 알고리즘\n",
    "    - 정렬이 필요할 때는 파이썬의 정렬 함수를 사용하는 것이 빠름\n",
    "        - 실제 데이터에 적합한 팀소트를 사용하면서, 파이썬 내장 함수로서 저수준의 언어를 이용해 매우 신중하게 작성되었기 때문 \n",
    "    - 파이썬은 팀소트를 기반으로 실제 데이터를 매우 빠르게 정렬할 수 있으며, 자바나 스위프트 등의 개발 언어 안드로이드, 크로 등의 플랫폼에도 영향을 미침 <br/><br/>\n",
    "    - 정렬 알고리즘별 시간 복잡도\n",
    "    <img src=\"https://hackernoon.com/hn-images/1*1CkG3c4mZGswDShAV9eHbQ.png\" width=\"60%\" height=\"50%\" title=\"정렬 알고리즘별 시간 복잡도\"></img> <br/><br/>\n",
    "        - 퀵 정렬은 빠른 알고리즘이긴 하지만 최악의 경우 $O(n^2)$이 될 수 있음\n",
    "        - 병합 정렬은 항상 일정한 속도를 보이지만 $O(n log n)$ 이상 빠르게 처리할 수 없음\n",
    "        - 다른 정렬 알고리즘이 최선일 때도 점근 하한 $\\Omega(n log n)$에 머무르지만 팀소트는 '**실제 데이터는 대부분 이미 정렬되어 있을 것이다**'를 가정하고 최적화를 함\n",
    "        - 이론적으로 어떠한 정렬 알고리즘도 한 번 이상 비교하면 $\\Omega(n log n)$보다 빨라질 수 없지만 팀소트는 이미 정렬되어 있는 경우 **비교를 건너뛰기 때문에 $\\Omega(n)$까지 가능**\n",
    "        "
   ]
  },
  {
   "cell_type": "markdown",
   "metadata": {},
   "source": [
    "# 6. 가장 긴 팰리드롬 부분 문자열\n",
    "- - -\n",
    "[리트코드 5. Longest Palidrome Substring](https://leetcode.com/problems/longest-palindromic-substring/)\n",
    "\n",
    "\n",
    "**가장 긴 팰린드롬 부분 문자열을 출력하라**\n",
    "- 예제 1\n",
    "    - 입력\n",
    "    ```python\n",
    "    \"babad\"\n",
    "    ```\n",
    "    - 출력\n",
    "    ```python\n",
    "    \"bab\"\n",
    "    ```\n",
    "    - 설명: \"bab\" 외에 \"aba\"도 정답 <br/><br/>\n",
    "- 예제 2\n",
    "    - 입력\n",
    "    ```python\n",
    "    \"cbbd\"\n",
    "    ```\n",
    "    - 출력\n",
    "    ```python\n",
    "    \"bb\"\n",
    "    ```"
   ]
  },
  {
   "cell_type": "markdown",
   "metadata": {},
   "source": [
    "### 풀이 1. 중앙을 중심으로 확장하는 풀이\n",
    "- **투 포인터가 중앙을 중심으로 확장**하는 형태로 풀이\n",
    "- 팰린드롬만 판별하면 된다는 점에서 착안해, 매칭이 될 때 중앙을 중심으로 점점 확장해 나가면서 가장 긴 팰린드롬을 판별하는 알고리즘을 구현\n",
    "- **2칸, 3칸**으로 구성된 투 포인터가 슬라이딩 윈도우(20장)처럼 계속 앞으로 전진해나가면서 윈도우에 들어온 문자열이 **팰린드롬인 경우 그 자리에 멈추고, 투 포인터가 점점 확장**하는 방식\n",
    "    - 팰린드롬은 bb처럼 **짝수(2칸)**일 때도 있고, bab처럼 **홀수(3칸)**일 때도 있으므로 짝수나 홀수 모든 경우에 대해 판별 <br/><br/>\n",
    "- 예시\n",
    "\n",
    "1|2|3|4|5|4|3|2|1\n",
    "-|-|-|-|-|-|-|-|-\n",
    "\n",
    "\n",
    "    - 홀수(3칸)와 짝수(2칸)의 2개 투 포인터가 계속 우측으로 이동하다 5에서 홀수 투 포인터가 454로 확장되면서 매칭이 되고, 34543, 2345432, 123454321까지 확장되면서 가장 긴 값으로 저장됨\n",
    "    - 짝수 투 포인터는 팰린드롬이 아니므로 무시됨\n",
    "    \n",
    "- 코드 구현\n",
    "    - **예외 처리**: 문자열 전체가 팰린드롬인 경우와 문자열의 길이가 1이하인 경우를 필터링해줌으로써 속도를 높일 수 있음\n",
    "    ```python\n",
    "    if len(s) < 2 or s == s[::-1]:\n",
    "        return s\n",
    "    ```\n",
    "        - 슬라이싱과 s[3]처럼 인덱스로 직접 조회하는 것은 숫자를 표기하는 방식이 다르므로 주의가 필요. **슬라이싱은 n-1**만큼 출력되며, **인덱스 조회는 해당 인덱스 값**이 나옴 <br/><br/>\n",
    "    - 슬라이딩 윈도우가 문자열 처음부터 끝까지 우측으로 이동\n",
    "    ```python\n",
    "    for i in range(0, lens(s) - 1):\n",
    "        result = max(result, expand(i, i+1), expand(i, i+2), key = len)\n",
    "        return result\n",
    "    ```\n",
    "        - expand()로 정의한 중첩 함수(12장)에서 홀수, 짝수 2개의 투 포인터가 팰린드롬 여부를 판별하면서 슬라이딩 윈도우처럼 계속 우측으로 이동"
   ]
  },
  {
   "cell_type": "code",
   "execution_count": 1,
   "metadata": {},
   "outputs": [],
   "source": [
    "def longestPalindrome(s: str) -> str:\n",
    "    # 팰린드롬 판별 및 투 포인터 확장\n",
    "    def expand(left: int, right: int) -> str:\n",
    "        while left >= 0 and right <= len(s) and s[left] == s[right-1]:\n",
    "            left -= 1\n",
    "            right += 1\n",
    "        return s[left + 1: right -1]\n",
    "    \n",
    "    # 해당 사항이 없을 때 빠르게 리턴\n",
    "    if len(s) < 2 or s == s[::-1]:\n",
    "        return s\n",
    "    \n",
    "    result = ''\n",
    "    # 슬라이딩 윈도우 우측으로 이동\n",
    "    for i in range(len(s) - 1):\n",
    "        result = max(result, expand(i, i + 1), expand(i, i + 2), key = len)\n",
    "    \n",
    "    return result"
   ]
  },
  {
   "cell_type": "code",
   "execution_count": 2,
   "metadata": {},
   "outputs": [
    {
     "data": {
      "text/plain": [
       "'bab'"
      ]
     },
     "execution_count": 2,
     "metadata": {},
     "output_type": "execute_result"
    }
   ],
   "source": [
    "longestPalindrome(\"babad\")"
   ]
  },
  {
   "cell_type": "code",
   "execution_count": 3,
   "metadata": {},
   "outputs": [
    {
     "data": {
      "text/plain": [
       "'bb'"
      ]
     },
     "execution_count": 3,
     "metadata": {},
     "output_type": "execute_result"
    }
   ],
   "source": [
    "longestPalindrome(\"cbbd\")"
   ]
  },
  {
   "cell_type": "markdown",
   "metadata": {},
   "source": [
    "## 6.1 유니코드와 UTF-8\n",
    "- - -\n",
    "- 초기에 문자를 표현하던 대표적인 방식은 ASCII 인코딩 방식으로 1비트는 체크섬으로 제외하고 7비트(128글자)로 문자를 표현했지만 한글이나 한자 같은 문자를 표현하는데 한계가 있어 유니코드가 등장 <br/><br/>\n",
    "\n",
    "#### 1. 유니코드\n",
    "- **유니코드**: 2~4 바이트의 공간에 여유 있게 문자를 할당하고자 등장한 방식\n",
    "    - 유니코드는 1바이트로 표현 가능한 영문자도 2바이트 이상의 공간을 사용하기 때문에 **메모리 낭비가 심함**\n",
    "- 만약 모든 문자를 4바이트(32비트)로 표현한다면 Python이라는 영문 문자열은 24바이트 메모리를 차지할 것\n",
    "    - 영문자는 ASCII 코드로도 충분히 표현 가능하기 때문에 각 문자당 1바이트로 충분한데, 모든 문자가 4바이트를 차지하기 땨문에 문자당 3바이트가 **빈 공간으로 낭비**됨\n",
    "    - 이 문제를 해결하기 위해 **가변 인코딩 방식**이 등장했고 가장 유명한 방식이 UTF-8 <br/><br/>"
   ]
  },
  {
   "cell_type": "markdown",
   "metadata": {},
   "source": [
    "#### 2. UTF-8\n",
    "- **UTF-8**: 유니코드를 **가변 길이 문자 인코딩 방식**으로 효율적으로 인코딩하는 대표적인 방식 \n",
    "- **UTF-8 바이트 순서의 이진 포맷**\n",
    "\n",
    "|바이트 수|바이트 1|바이트 2|바이트 3|바이트 4\n",
    "|---------|--------|--------|--------|--------\n",
    "|1|0xxxxxxx|||\n",
    "|2|110xxxxx|10xxxxxx||\n",
    "|3|1110xxxx|10xxxxxx|10xxxxxx|\n",
    "|4|11110xxx|10xxxxxx|10xxxxxx|\n",
    "\n",
    "- **시작 비트**를 살펴보면 문자의 전체 바이트를 결정 가능\n",
    "    - 첫 바이트의 맨 앞 비트 확인을 통해 문자 바아트의 길이를 인식할 수 있음\n",
    "    - 0인 경우: 1바이트 문자\n",
    "    - 10인 경우: 특정 문자의 중간 바이트\n",
    "    - 110인 경우: 2바이트 문자\n",
    "    - 1110인 경우: 3바이트 문자\n",
    "    - 11110인 경우: 4바이트 문자\n",
    "- UTF-8의 장점: **유니코드 값에 따라 가변적으로 바이트를 결정하여 불필요한 공간 낭비를 절약할 수 있음**"
   ]
  },
  {
   "cell_type": "markdown",
   "metadata": {},
   "source": [
    "#### 3. 파이썬의 유니코드 인코딩\n",
    "- 파이썬 3부터 유니코드로 모든 문자열을 표현한다 했지만 파이썬 내부적으로는 **인덱스를 통해 개별 문자에 접근하기 어렵기 때문에** UTF-8 인코딩을 사용하지 않음\n",
    "- 문자열을 UTF-8로 인코딩해둔다면 각 문자마다 **바이트 길이가 달라지게 되므로**, 전체 문자열을 스캔하지 않는 한 원하는 인덱스에 빠르게 접근할 수 없음\n",
    "- 따라서 **고정 길이 인코딩 방식**이 필요하며, 파이썬은 **문자열 단위**로 다른 고정 길이 인코딩 방식을 적용해 이 문제를 해결\n",
    "- 각 문자열에 포함된 **문자 범위에 따라 서로 다른 고정 인코딩 방식**을 택함으로써, 내부적으로 파이썬은 **문자열 슬라이싱**을 포함한 원하는 인덱스에 빠르게 접근할 수 있음\n",
    "    - ASCII 범위 내에 있다면 Latin-1 인코딩(고정 1바이트 인코딩)을 사용하고, 이외의 대부분 문자열은 UCS-2(고정 2바이트 인코딩)로 2바이트 인코딩을 함\n",
    "    - 특수 기호, 그림 이모티콘, 희귀 언어 등이 포함된 문자열이라면 UCS-4(고정 4바이트 인코딩)로 4바이트 인코딩을 함"
   ]
  },
  {
   "cell_type": "code",
   "execution_count": null,
   "metadata": {},
   "outputs": [],
   "source": []
  }
 ],
 "metadata": {
  "kernelspec": {
   "display_name": "Python 3",
   "language": "python",
   "name": "python3"
  },
  "language_info": {
   "codemirror_mode": {
    "name": "ipython",
    "version": 3
   },
   "file_extension": ".py",
   "mimetype": "text/x-python",
   "name": "python",
   "nbconvert_exporter": "python",
   "pygments_lexer": "ipython3",
   "version": "3.7.3"
  }
 },
 "nbformat": 4,
 "nbformat_minor": 2
}
